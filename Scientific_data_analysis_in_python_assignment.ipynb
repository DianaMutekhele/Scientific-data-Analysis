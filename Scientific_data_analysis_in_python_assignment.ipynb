{
  "nbformat": 4,
  "nbformat_minor": 0,
  "metadata": {
    "colab": {
      "name": "Scientific data analysis in python assignment.ipynb",
      "provenance": [],
      "authorship_tag": "ABX9TyOPk8NITjZCo8DvC31m3XtU",
      "include_colab_link": true
    },
    "kernelspec": {
      "display_name": "Python 3",
      "name": "python3"
    },
    "language_info": {
      "name": "python"
    }
  },
  "cells": [
    {
      "cell_type": "markdown",
      "metadata": {
        "id": "view-in-github",
        "colab_type": "text"
      },
      "source": [
        "<a href=\"https://colab.research.google.com/github/DianaMutekhele/Scientific-data-Analysis/blob/main/Scientific_data_analysis_in_python_assignment.ipynb\" target=\"_parent\"><img src=\"https://colab.research.google.com/assets/colab-badge.svg\" alt=\"Open In Colab\"/></a>"
      ]
    },
    {
      "cell_type": "markdown",
      "metadata": {
        "id": "MYX7HzKa-r0P"
      },
      "source": [
        "#DIANA MUTEKHELE"
      ]
    },
    {
      "cell_type": "markdown",
      "metadata": {
        "id": "Rha8vhj_HQ53"
      },
      "source": [
        "Null hypothesis:\n",
        "There is no difference in grading styles between the two professors."
      ]
    },
    {
      "cell_type": "markdown",
      "metadata": {
        "id": "QVbYfaJGHOxq"
      },
      "source": [
        "Alternative hypothesis:\n",
        "There is a difference in grading styles between the two professors."
      ]
    },
    {
      "cell_type": "markdown",
      "metadata": {
        "id": "Z32RqiOvAAHm"
      },
      "source": [
        "# 1.Pingouin"
      ]
    },
    {
      "cell_type": "code",
      "metadata": {
        "colab": {
          "base_uri": "https://localhost:8080/"
        },
        "id": "EWfMhD3h-wXq",
        "outputId": "c92d0161-2991-4276-cda2-1b47d3cab6cb"
      },
      "source": [
        "!pip install pingouin"
      ],
      "execution_count": null,
      "outputs": [
        {
          "output_type": "stream",
          "name": "stdout",
          "text": [
            "Collecting pingouin\n",
            "  Downloading pingouin-0.4.0.tar.gz (206 kB)\n",
            "\u001b[?25l\r\u001b[K     |█▋                              | 10 kB 23.1 MB/s eta 0:00:01\r\u001b[K     |███▏                            | 20 kB 23.9 MB/s eta 0:00:01\r\u001b[K     |████▊                           | 30 kB 16.8 MB/s eta 0:00:01\r\u001b[K     |██████▍                         | 40 kB 14.6 MB/s eta 0:00:01\r\u001b[K     |████████                        | 51 kB 6.6 MB/s eta 0:00:01\r\u001b[K     |█████████▌                      | 61 kB 7.1 MB/s eta 0:00:01\r\u001b[K     |███████████                     | 71 kB 7.5 MB/s eta 0:00:01\r\u001b[K     |████████████▊                   | 81 kB 8.3 MB/s eta 0:00:01\r\u001b[K     |██████████████▎                 | 92 kB 8.2 MB/s eta 0:00:01\r\u001b[K     |███████████████▉                | 102 kB 6.5 MB/s eta 0:00:01\r\u001b[K     |█████████████████▍              | 112 kB 6.5 MB/s eta 0:00:01\r\u001b[K     |███████████████████             | 122 kB 6.5 MB/s eta 0:00:01\r\u001b[K     |████████████████████▋           | 133 kB 6.5 MB/s eta 0:00:01\r\u001b[K     |██████████████████████▏         | 143 kB 6.5 MB/s eta 0:00:01\r\u001b[K     |███████████████████████▊        | 153 kB 6.5 MB/s eta 0:00:01\r\u001b[K     |█████████████████████████▍      | 163 kB 6.5 MB/s eta 0:00:01\r\u001b[K     |███████████████████████████     | 174 kB 6.5 MB/s eta 0:00:01\r\u001b[K     |████████████████████████████▌   | 184 kB 6.5 MB/s eta 0:00:01\r\u001b[K     |██████████████████████████████  | 194 kB 6.5 MB/s eta 0:00:01\r\u001b[K     |███████████████████████████████▊| 204 kB 6.5 MB/s eta 0:00:01\r\u001b[K     |████████████████████████████████| 206 kB 6.5 MB/s \n",
            "\u001b[?25hRequirement already satisfied: numpy>=1.19 in /usr/local/lib/python3.7/dist-packages (from pingouin) (1.19.5)\n",
            "Collecting scipy>=1.7\n",
            "  Downloading scipy-1.7.1-cp37-cp37m-manylinux_2_5_x86_64.manylinux1_x86_64.whl (28.5 MB)\n",
            "\u001b[K     |████████████████████████████████| 28.5 MB 49 kB/s \n",
            "\u001b[?25hRequirement already satisfied: pandas>=1.0 in /usr/local/lib/python3.7/dist-packages (from pingouin) (1.1.5)\n",
            "Requirement already satisfied: matplotlib>=3.0.2 in /usr/local/lib/python3.7/dist-packages (from pingouin) (3.2.2)\n",
            "Requirement already satisfied: seaborn>=0.9.0 in /usr/local/lib/python3.7/dist-packages (from pingouin) (0.11.2)\n",
            "Collecting statsmodels>=0.12.0\n",
            "  Downloading statsmodels-0.12.2-cp37-cp37m-manylinux1_x86_64.whl (9.5 MB)\n",
            "\u001b[K     |████████████████████████████████| 9.5 MB 10.7 MB/s \n",
            "\u001b[?25hRequirement already satisfied: scikit-learn in /usr/local/lib/python3.7/dist-packages (from pingouin) (0.22.2.post1)\n",
            "Collecting pandas_flavor>=0.2.0\n",
            "  Downloading pandas_flavor-0.2.0-py2.py3-none-any.whl (6.6 kB)\n",
            "Collecting outdated\n",
            "  Downloading outdated-0.2.1-py3-none-any.whl (7.5 kB)\n",
            "Requirement already satisfied: tabulate in /usr/local/lib/python3.7/dist-packages (from pingouin) (0.8.9)\n",
            "Requirement already satisfied: python-dateutil>=2.1 in /usr/local/lib/python3.7/dist-packages (from matplotlib>=3.0.2->pingouin) (2.8.2)\n",
            "Requirement already satisfied: kiwisolver>=1.0.1 in /usr/local/lib/python3.7/dist-packages (from matplotlib>=3.0.2->pingouin) (1.3.2)\n",
            "Requirement already satisfied: pyparsing!=2.0.4,!=2.1.2,!=2.1.6,>=2.0.1 in /usr/local/lib/python3.7/dist-packages (from matplotlib>=3.0.2->pingouin) (2.4.7)\n",
            "Requirement already satisfied: cycler>=0.10 in /usr/local/lib/python3.7/dist-packages (from matplotlib>=3.0.2->pingouin) (0.10.0)\n",
            "Requirement already satisfied: six in /usr/local/lib/python3.7/dist-packages (from cycler>=0.10->matplotlib>=3.0.2->pingouin) (1.15.0)\n",
            "Requirement already satisfied: pytz>=2017.2 in /usr/local/lib/python3.7/dist-packages (from pandas>=1.0->pingouin) (2018.9)\n",
            "Requirement already satisfied: xarray in /usr/local/lib/python3.7/dist-packages (from pandas_flavor>=0.2.0->pingouin) (0.18.2)\n",
            "Requirement already satisfied: patsy>=0.5 in /usr/local/lib/python3.7/dist-packages (from statsmodels>=0.12.0->pingouin) (0.5.1)\n",
            "Collecting littleutils\n",
            "  Downloading littleutils-0.2.2.tar.gz (6.6 kB)\n",
            "Requirement already satisfied: requests in /usr/local/lib/python3.7/dist-packages (from outdated->pingouin) (2.23.0)\n",
            "Requirement already satisfied: urllib3!=1.25.0,!=1.25.1,<1.26,>=1.21.1 in /usr/local/lib/python3.7/dist-packages (from requests->outdated->pingouin) (1.24.3)\n",
            "Requirement already satisfied: certifi>=2017.4.17 in /usr/local/lib/python3.7/dist-packages (from requests->outdated->pingouin) (2021.5.30)\n",
            "Requirement already satisfied: chardet<4,>=3.0.2 in /usr/local/lib/python3.7/dist-packages (from requests->outdated->pingouin) (3.0.4)\n",
            "Requirement already satisfied: idna<3,>=2.5 in /usr/local/lib/python3.7/dist-packages (from requests->outdated->pingouin) (2.10)\n",
            "Requirement already satisfied: joblib>=0.11 in /usr/local/lib/python3.7/dist-packages (from scikit-learn->pingouin) (1.0.1)\n",
            "Requirement already satisfied: setuptools>=40.4 in /usr/local/lib/python3.7/dist-packages (from xarray->pandas_flavor>=0.2.0->pingouin) (57.4.0)\n",
            "Building wheels for collected packages: pingouin, littleutils\n",
            "  Building wheel for pingouin (setup.py) ... \u001b[?25l\u001b[?25hdone\n",
            "  Created wheel for pingouin: filename=pingouin-0.4.0-py3-none-any.whl size=206904 sha256=d118bbede13a9069d006e3d6535b7614df7020daee1520bbc62430b977d34887\n",
            "  Stored in directory: /root/.cache/pip/wheels/8a/9d/c4/11677c2c4d5c0df9d1d4aa61528d868bb96e13b898e3f51c95\n",
            "  Building wheel for littleutils (setup.py) ... \u001b[?25l\u001b[?25hdone\n",
            "  Created wheel for littleutils: filename=littleutils-0.2.2-py3-none-any.whl size=7048 sha256=a328d6ea8b80ca71f3d2e8bfa07435446ecd27611279d89efd7f6e9c4b307841\n",
            "  Stored in directory: /root/.cache/pip/wheels/d6/64/cd/32819b511a488e4993f2fab909a95330289c3f4e0f6ef4676d\n",
            "Successfully built pingouin littleutils\n",
            "Installing collected packages: scipy, littleutils, statsmodels, pandas-flavor, outdated, pingouin\n",
            "  Attempting uninstall: scipy\n",
            "    Found existing installation: scipy 1.4.1\n",
            "    Uninstalling scipy-1.4.1:\n",
            "      Successfully uninstalled scipy-1.4.1\n",
            "  Attempting uninstall: statsmodels\n",
            "    Found existing installation: statsmodels 0.10.2\n",
            "    Uninstalling statsmodels-0.10.2:\n",
            "      Successfully uninstalled statsmodels-0.10.2\n",
            "\u001b[31mERROR: pip's dependency resolver does not currently take into account all the packages that are installed. This behaviour is the source of the following dependency conflicts.\n",
            "albumentations 0.1.12 requires imgaug<0.2.7,>=0.2.5, but you have imgaug 0.2.9 which is incompatible.\u001b[0m\n",
            "Successfully installed littleutils-0.2.2 outdated-0.2.1 pandas-flavor-0.2.0 pingouin-0.4.0 scipy-1.7.1 statsmodels-0.12.2\n"
          ]
        }
      ]
    },
    {
      "cell_type": "code",
      "metadata": {
        "colab": {
          "base_uri": "https://localhost:8080/"
        },
        "id": "OORwhCtjAw4G",
        "outputId": "7aa5a562-ac3b-4798-a83b-c275f2c6fe4b"
      },
      "source": [
        "pip install dfply"
      ],
      "execution_count": null,
      "outputs": [
        {
          "name": "stdout",
          "output_type": "stream",
          "text": [
            "Collecting dfply\n",
            "  Downloading dfply-0.3.3-py3-none-any.whl (612 kB)\n",
            "\u001b[?25l\r\u001b[K     |▌                               | 10 kB 20.5 MB/s eta 0:00:01\r\u001b[K     |█                               | 20 kB 22.2 MB/s eta 0:00:01\r\u001b[K     |█▋                              | 30 kB 25.9 MB/s eta 0:00:01\r\u001b[K     |██▏                             | 40 kB 28.4 MB/s eta 0:00:01\r\u001b[K     |██▊                             | 51 kB 29.8 MB/s eta 0:00:01\r\u001b[K     |███▏                            | 61 kB 31.0 MB/s eta 0:00:01\r\u001b[K     |███▊                            | 71 kB 28.9 MB/s eta 0:00:01\r\u001b[K     |████▎                           | 81 kB 27.4 MB/s eta 0:00:01\r\u001b[K     |████▉                           | 92 kB 28.4 MB/s eta 0:00:01\r\u001b[K     |█████▍                          | 102 kB 30.1 MB/s eta 0:00:01\r\u001b[K     |█████▉                          | 112 kB 30.1 MB/s eta 0:00:01\r\u001b[K     |██████▍                         | 122 kB 30.1 MB/s eta 0:00:01\r\u001b[K     |███████                         | 133 kB 30.1 MB/s eta 0:00:01\r\u001b[K     |███████▌                        | 143 kB 30.1 MB/s eta 0:00:01\r\u001b[K     |████████                        | 153 kB 30.1 MB/s eta 0:00:01\r\u001b[K     |████████▋                       | 163 kB 30.1 MB/s eta 0:00:01\r\u001b[K     |█████████                       | 174 kB 30.1 MB/s eta 0:00:01\r\u001b[K     |█████████▋                      | 184 kB 30.1 MB/s eta 0:00:01\r\u001b[K     |██████████▏                     | 194 kB 30.1 MB/s eta 0:00:01\r\u001b[K     |██████████▊                     | 204 kB 30.1 MB/s eta 0:00:01\r\u001b[K     |███████████▎                    | 215 kB 30.1 MB/s eta 0:00:01\r\u001b[K     |███████████▊                    | 225 kB 30.1 MB/s eta 0:00:01\r\u001b[K     |████████████▎                   | 235 kB 30.1 MB/s eta 0:00:01\r\u001b[K     |████████████▉                   | 245 kB 30.1 MB/s eta 0:00:01\r\u001b[K     |█████████████▍                  | 256 kB 30.1 MB/s eta 0:00:01\r\u001b[K     |██████████████                  | 266 kB 30.1 MB/s eta 0:00:01\r\u001b[K     |██████████████▌                 | 276 kB 30.1 MB/s eta 0:00:01\r\u001b[K     |███████████████                 | 286 kB 30.1 MB/s eta 0:00:01\r\u001b[K     |███████████████▌                | 296 kB 30.1 MB/s eta 0:00:01\r\u001b[K     |████████████████                | 307 kB 30.1 MB/s eta 0:00:01\r\u001b[K     |████████████████▋               | 317 kB 30.1 MB/s eta 0:00:01\r\u001b[K     |█████████████████▏              | 327 kB 30.1 MB/s eta 0:00:01\r\u001b[K     |█████████████████▋              | 337 kB 30.1 MB/s eta 0:00:01\r\u001b[K     |██████████████████▏             | 348 kB 30.1 MB/s eta 0:00:01\r\u001b[K     |██████████████████▊             | 358 kB 30.1 MB/s eta 0:00:01\r\u001b[K     |███████████████████▎            | 368 kB 30.1 MB/s eta 0:00:01\r\u001b[K     |███████████████████▉            | 378 kB 30.1 MB/s eta 0:00:01\r\u001b[K     |████████████████████▎           | 389 kB 30.1 MB/s eta 0:00:01\r\u001b[K     |████████████████████▉           | 399 kB 30.1 MB/s eta 0:00:01\r\u001b[K     |█████████████████████▍          | 409 kB 30.1 MB/s eta 0:00:01\r\u001b[K     |██████████████████████          | 419 kB 30.1 MB/s eta 0:00:01\r\u001b[K     |██████████████████████▌         | 430 kB 30.1 MB/s eta 0:00:01\r\u001b[K     |███████████████████████         | 440 kB 30.1 MB/s eta 0:00:01\r\u001b[K     |███████████████████████▌        | 450 kB 30.1 MB/s eta 0:00:01\r\u001b[K     |████████████████████████        | 460 kB 30.1 MB/s eta 0:00:01\r\u001b[K     |████████████████████████▋       | 471 kB 30.1 MB/s eta 0:00:01\r\u001b[K     |█████████████████████████▏      | 481 kB 30.1 MB/s eta 0:00:01\r\u001b[K     |█████████████████████████▊      | 491 kB 30.1 MB/s eta 0:00:01\r\u001b[K     |██████████████████████████▏     | 501 kB 30.1 MB/s eta 0:00:01\r\u001b[K     |██████████████████████████▊     | 512 kB 30.1 MB/s eta 0:00:01\r\u001b[K     |███████████████████████████▎    | 522 kB 30.1 MB/s eta 0:00:01\r\u001b[K     |███████████████████████████▉    | 532 kB 30.1 MB/s eta 0:00:01\r\u001b[K     |████████████████████████████▍   | 542 kB 30.1 MB/s eta 0:00:01\r\u001b[K     |█████████████████████████████   | 552 kB 30.1 MB/s eta 0:00:01\r\u001b[K     |█████████████████████████████▍  | 563 kB 30.1 MB/s eta 0:00:01\r\u001b[K     |██████████████████████████████  | 573 kB 30.1 MB/s eta 0:00:01\r\u001b[K     |██████████████████████████████▌ | 583 kB 30.1 MB/s eta 0:00:01\r\u001b[K     |███████████████████████████████ | 593 kB 30.1 MB/s eta 0:00:01\r\u001b[K     |███████████████████████████████▋| 604 kB 30.1 MB/s eta 0:00:01\r\u001b[K     |████████████████████████████████| 612 kB 30.1 MB/s \n",
            "\u001b[?25hRequirement already satisfied: pandas in /usr/local/lib/python3.7/dist-packages (from dfply) (1.1.5)\n",
            "Requirement already satisfied: numpy in /usr/local/lib/python3.7/dist-packages (from dfply) (1.19.5)\n",
            "Requirement already satisfied: python-dateutil>=2.7.3 in /usr/local/lib/python3.7/dist-packages (from pandas->dfply) (2.8.2)\n",
            "Requirement already satisfied: pytz>=2017.2 in /usr/local/lib/python3.7/dist-packages (from pandas->dfply) (2018.9)\n",
            "Requirement already satisfied: six>=1.5 in /usr/local/lib/python3.7/dist-packages (from python-dateutil>=2.7.3->pandas->dfply) (1.15.0)\n",
            "Installing collected packages: dfply\n",
            "Successfully installed dfply-0.3.3\n"
          ]
        }
      ]
    },
    {
      "cell_type": "code",
      "metadata": {
        "id": "EgAvBAYmBXgY"
      },
      "source": [
        "import pandas as pd\n",
        "import numpy as np\n",
        "import pingouin as pg"
      ],
      "execution_count": null,
      "outputs": []
    },
    {
      "cell_type": "code",
      "metadata": {
        "colab": {
          "base_uri": "https://localhost:8080/"
        },
        "id": "J01SUouv3L1X",
        "outputId": "268bc6da-9afd-490e-8ed4-14bfa647da9f"
      },
      "source": [
        "#Create a folder data, where the downloaded data will reside\n",
        "!mkdir data\n",
        "#Upload the data into the data folder\n",
        "#To view the contents of the data folder, import os and run the code below\n",
        "import os\n",
        "os.listdir('data')\n",
        "#os.chdir('data')"
      ],
      "execution_count": null,
      "outputs": [
        {
          "output_type": "stream",
          "name": "stdout",
          "text": [
            "mkdir: cannot create directory ‘data’: File exists\n"
          ]
        },
        {
          "output_type": "execute_result",
          "data": {
            "text/plain": [
              "['Grade Data-Sheet1.csv']"
            ]
          },
          "metadata": {},
          "execution_count": 8
        }
      ]
    },
    {
      "cell_type": "code",
      "metadata": {
        "id": "7YFRVYakBfjn"
      },
      "source": [
        "#Read the data into python environment\n",
        "grade = pd.read_csv('Grade Data-Sheet1.csv')\n"
      ],
      "execution_count": null,
      "outputs": []
    },
    {
      "cell_type": "code",
      "metadata": {
        "colab": {
          "base_uri": "https://localhost:8080/",
          "height": 174
        },
        "id": "j3qV34k7DA8G",
        "outputId": "77de145c-b76a-4178-935a-c72ecfc59cce"
      },
      "source": [
        "grade.head(4)"
      ],
      "execution_count": null,
      "outputs": [
        {
          "output_type": "execute_result",
          "data": {
            "text/html": [
              "<div>\n",
              "<style scoped>\n",
              "    .dataframe tbody tr th:only-of-type {\n",
              "        vertical-align: middle;\n",
              "    }\n",
              "\n",
              "    .dataframe tbody tr th {\n",
              "        vertical-align: top;\n",
              "    }\n",
              "\n",
              "    .dataframe thead th {\n",
              "        text-align: right;\n",
              "    }\n",
              "</style>\n",
              "<table border=\"1\" class=\"dataframe\">\n",
              "  <thead>\n",
              "    <tr style=\"text-align: right;\">\n",
              "      <th></th>\n",
              "      <th>Class</th>\n",
              "      <th>TestGrades</th>\n",
              "    </tr>\n",
              "  </thead>\n",
              "  <tbody>\n",
              "    <tr>\n",
              "      <th>0</th>\n",
              "      <td>Dr. Filarnami</td>\n",
              "      <td>99</td>\n",
              "    </tr>\n",
              "    <tr>\n",
              "      <th>1</th>\n",
              "      <td>Dr. Filarnami</td>\n",
              "      <td>93</td>\n",
              "    </tr>\n",
              "    <tr>\n",
              "      <th>2</th>\n",
              "      <td>Dr. Filarnami</td>\n",
              "      <td>81</td>\n",
              "    </tr>\n",
              "    <tr>\n",
              "      <th>3</th>\n",
              "      <td>Dr. Filarnami</td>\n",
              "      <td>92</td>\n",
              "    </tr>\n",
              "  </tbody>\n",
              "</table>\n",
              "</div>"
            ],
            "text/plain": [
              "           Class  TestGrades\n",
              "0  Dr. Filarnami          99\n",
              "1  Dr. Filarnami          93\n",
              "2  Dr. Filarnami          81\n",
              "3  Dr. Filarnami          92"
            ]
          },
          "metadata": {},
          "execution_count": 12
        }
      ]
    },
    {
      "cell_type": "code",
      "metadata": {
        "colab": {
          "base_uri": "https://localhost:8080/"
        },
        "id": "aO4ZBgQKx3GD",
        "outputId": "19d51efb-0241-46d7-bd9e-8a69465d9f68"
      },
      "source": [
        "#Look at the dimensions of the data (20 rows, and 2 columns)\n",
        "grade.shape"
      ],
      "execution_count": null,
      "outputs": [
        {
          "output_type": "execute_result",
          "data": {
            "text/plain": [
              "(20, 2)"
            ]
          },
          "metadata": {},
          "execution_count": 13
        }
      ]
    },
    {
      "cell_type": "code",
      "metadata": {
        "colab": {
          "base_uri": "https://localhost:8080/",
          "height": 676
        },
        "id": "WYxZ9dH86Hlt",
        "outputId": "dc3c60d1-ee16-42a1-f97a-e2e53b740201"
      },
      "source": [
        "grade"
      ],
      "execution_count": null,
      "outputs": [
        {
          "output_type": "execute_result",
          "data": {
            "text/html": [
              "<div>\n",
              "<style scoped>\n",
              "    .dataframe tbody tr th:only-of-type {\n",
              "        vertical-align: middle;\n",
              "    }\n",
              "\n",
              "    .dataframe tbody tr th {\n",
              "        vertical-align: top;\n",
              "    }\n",
              "\n",
              "    .dataframe thead th {\n",
              "        text-align: right;\n",
              "    }\n",
              "</style>\n",
              "<table border=\"1\" class=\"dataframe\">\n",
              "  <thead>\n",
              "    <tr style=\"text-align: right;\">\n",
              "      <th></th>\n",
              "      <th>Class</th>\n",
              "      <th>TestGrades</th>\n",
              "    </tr>\n",
              "  </thead>\n",
              "  <tbody>\n",
              "    <tr>\n",
              "      <th>0</th>\n",
              "      <td>Dr. Filarnami</td>\n",
              "      <td>99</td>\n",
              "    </tr>\n",
              "    <tr>\n",
              "      <th>1</th>\n",
              "      <td>Dr. Filarnami</td>\n",
              "      <td>93</td>\n",
              "    </tr>\n",
              "    <tr>\n",
              "      <th>2</th>\n",
              "      <td>Dr. Filarnami</td>\n",
              "      <td>81</td>\n",
              "    </tr>\n",
              "    <tr>\n",
              "      <th>3</th>\n",
              "      <td>Dr. Filarnami</td>\n",
              "      <td>92</td>\n",
              "    </tr>\n",
              "    <tr>\n",
              "      <th>4</th>\n",
              "      <td>Dr. Filarnami</td>\n",
              "      <td>89</td>\n",
              "    </tr>\n",
              "    <tr>\n",
              "      <th>5</th>\n",
              "      <td>Dr. Filarnami</td>\n",
              "      <td>80</td>\n",
              "    </tr>\n",
              "    <tr>\n",
              "      <th>6</th>\n",
              "      <td>Dr. Filarnami</td>\n",
              "      <td>88</td>\n",
              "    </tr>\n",
              "    <tr>\n",
              "      <th>7</th>\n",
              "      <td>Dr. Filarnami</td>\n",
              "      <td>81</td>\n",
              "    </tr>\n",
              "    <tr>\n",
              "      <th>8</th>\n",
              "      <td>Dr. Filarnami</td>\n",
              "      <td>100</td>\n",
              "    </tr>\n",
              "    <tr>\n",
              "      <th>9</th>\n",
              "      <td>Dr. Filarnami</td>\n",
              "      <td>82</td>\n",
              "    </tr>\n",
              "    <tr>\n",
              "      <th>10</th>\n",
              "      <td>Dr. Adebola</td>\n",
              "      <td>98</td>\n",
              "    </tr>\n",
              "    <tr>\n",
              "      <th>11</th>\n",
              "      <td>Dr. Adebola</td>\n",
              "      <td>66</td>\n",
              "    </tr>\n",
              "    <tr>\n",
              "      <th>12</th>\n",
              "      <td>Dr. Adebola</td>\n",
              "      <td>86</td>\n",
              "    </tr>\n",
              "    <tr>\n",
              "      <th>13</th>\n",
              "      <td>Dr. Adebola</td>\n",
              "      <td>62</td>\n",
              "    </tr>\n",
              "    <tr>\n",
              "      <th>14</th>\n",
              "      <td>Dr. Adebola</td>\n",
              "      <td>78</td>\n",
              "    </tr>\n",
              "    <tr>\n",
              "      <th>15</th>\n",
              "      <td>Dr. Adebola</td>\n",
              "      <td>87</td>\n",
              "    </tr>\n",
              "    <tr>\n",
              "      <th>16</th>\n",
              "      <td>Dr. Adebola</td>\n",
              "      <td>77</td>\n",
              "    </tr>\n",
              "    <tr>\n",
              "      <th>17</th>\n",
              "      <td>Dr. Adebola</td>\n",
              "      <td>60</td>\n",
              "    </tr>\n",
              "    <tr>\n",
              "      <th>18</th>\n",
              "      <td>Dr. Adebola</td>\n",
              "      <td>60</td>\n",
              "    </tr>\n",
              "    <tr>\n",
              "      <th>19</th>\n",
              "      <td>Dr. Adebola</td>\n",
              "      <td>79</td>\n",
              "    </tr>\n",
              "  </tbody>\n",
              "</table>\n",
              "</div>"
            ],
            "text/plain": [
              "            Class  TestGrades\n",
              "0   Dr. Filarnami          99\n",
              "1   Dr. Filarnami          93\n",
              "2   Dr. Filarnami          81\n",
              "3   Dr. Filarnami          92\n",
              "4   Dr. Filarnami          89\n",
              "5   Dr. Filarnami          80\n",
              "6   Dr. Filarnami          88\n",
              "7   Dr. Filarnami          81\n",
              "8   Dr. Filarnami         100\n",
              "9   Dr. Filarnami          82\n",
              "10    Dr. Adebola          98\n",
              "11    Dr. Adebola          66\n",
              "12    Dr. Adebola          86\n",
              "13    Dr. Adebola          62\n",
              "14    Dr. Adebola          78\n",
              "15    Dr. Adebola          87\n",
              "16    Dr. Adebola          77\n",
              "17    Dr. Adebola          60\n",
              "18    Dr. Adebola          60\n",
              "19    Dr. Adebola          79"
            ]
          },
          "metadata": {},
          "execution_count": 14
        }
      ]
    },
    {
      "cell_type": "code",
      "metadata": {
        "colab": {
          "base_uri": "https://localhost:8080/"
        },
        "id": "idkiYhL8cQZT",
        "outputId": "c7699299-49ca-404c-8734-3db08538b9d7"
      },
      "source": [
        "grade.info()"
      ],
      "execution_count": null,
      "outputs": [
        {
          "output_type": "stream",
          "name": "stdout",
          "text": [
            "<class 'pandas.core.frame.DataFrame'>\n",
            "RangeIndex: 20 entries, 0 to 19\n",
            "Data columns (total 2 columns):\n",
            " #   Column      Non-Null Count  Dtype \n",
            "---  ------      --------------  ----- \n",
            " 0   Class       20 non-null     object\n",
            " 1   TestGrades  20 non-null     int64 \n",
            "dtypes: int64(1), object(1)\n",
            "memory usage: 448.0+ bytes\n"
          ]
        }
      ]
    },
    {
      "cell_type": "code",
      "metadata": {
        "colab": {
          "base_uri": "https://localhost:8080/"
        },
        "id": "s8eSdcqjEMNf",
        "outputId": "27f8ee3c-d046-4a0c-d051-1dcbd6c44cd5"
      },
      "source": [
        "grade['Class'].unique()"
      ],
      "execution_count": null,
      "outputs": [
        {
          "output_type": "execute_result",
          "data": {
            "text/plain": [
              "array(['Dr. Filarnami', 'Dr. Adebola'], dtype=object)"
            ]
          },
          "metadata": {},
          "execution_count": 16
        }
      ]
    },
    {
      "cell_type": "markdown",
      "metadata": {
        "id": "9bskyijrDK5c"
      },
      "source": [
        "#Check for normality inorder to ascertain which test to use for common inferential scientific data analysis\n"
      ]
    },
    {
      "cell_type": "markdown",
      "metadata": {
        "id": "4AEP-fgJzlK6"
      },
      "source": [
        "#Test for Normality\n",
        "There are two ways one can test for Normality\n",
        "- make a histogram,Q-Q Plot and/or \n",
        "- use a statistical test(Shapiro-Wilk)"
      ]
    },
    {
      "cell_type": "code",
      "metadata": {
        "id": "THVTG-ZW7TXy"
      },
      "source": [
        "import statsmodels.api as sm\n",
        "from statsmodels.formula.api import ols"
      ],
      "execution_count": null,
      "outputs": []
    },
    {
      "cell_type": "code",
      "metadata": {
        "colab": {
          "base_uri": "https://localhost:8080/"
        },
        "id": "i3M7mvsG8VMQ",
        "outputId": "48d61027-babb-4196-ad98-40842091a5c1"
      },
      "source": [
        "# Test for normality for Dr.Filarnami\n",
        "from scipy.stats import shapiro\n",
        "\n",
        "shapiro(grade[grade.Class=='Dr. Filarnami']['TestGrades'])"
      ],
      "execution_count": null,
      "outputs": [
        {
          "output_type": "execute_result",
          "data": {
            "text/plain": [
              "ShapiroResult(statistic=0.8974428176879883, pvalue=0.205331489443779)"
            ]
          },
          "metadata": {},
          "execution_count": 18
        }
      ]
    },
    {
      "cell_type": "code",
      "metadata": {
        "colab": {
          "base_uri": "https://localhost:8080/"
        },
        "id": "gFCpW9eq92Ty",
        "outputId": "0be59754-2953-4c17-fbc7-1cf962cfdaaf"
      },
      "source": [
        "#Test for normality for Dr. Adebola\n",
        "shapiro(grade[grade.Class=='Dr. Adebola']['TestGrades'])"
      ],
      "execution_count": null,
      "outputs": [
        {
          "output_type": "execute_result",
          "data": {
            "text/plain": [
              "ShapiroResult(statistic=0.9221199154853821, pvalue=0.37497594952583313)"
            ]
          },
          "metadata": {},
          "execution_count": 19
        }
      ]
    },
    {
      "cell_type": "markdown",
      "metadata": {
        "id": "juOhHtPGES8_"
      },
      "source": [
        "From the results above, we **fail to reject H0**, and therefore infer that the two sets of data are **normally distributed**\n",
        "\n",
        "We can use **Q-Q plot** to visualize the normality of the data as below"
      ]
    },
    {
      "cell_type": "code",
      "metadata": {
        "id": "XQfS9LuYAmU9"
      },
      "source": [
        "from statsmodels.graphics.gofplots import qqplot\n",
        "from matplotlib import pyplot"
      ],
      "execution_count": null,
      "outputs": []
    },
    {
      "cell_type": "code",
      "metadata": {
        "id": "W1CzkdIB3szy",
        "colab": {
          "base_uri": "https://localhost:8080/",
          "height": 294
        },
        "outputId": "5070cdfe-707b-4fa2-fc0a-56afa4ba6861"
      },
      "source": [
        "#Q-Q plot for Dr. Filarnami\n",
        "ap = pg.qqplot(grade[grade.Class=='Dr. Filarnami']['TestGrades'], dist='norm')"
      ],
      "execution_count": null,
      "outputs": [
        {
          "output_type": "display_data",
          "data": {
            "image/png": "[encoded data removed]",
            "text/plain": [
              "<Figure size 360x288 with 1 Axes>"
            ]
          },
          "metadata": {
            "needs_background": "light"
          }
        }
      ]
    },
    {
      "cell_type": "code",
      "metadata": {
        "colab": {
          "base_uri": "https://localhost:8080/",
          "height": 294
        },
        "id": "l754xvts3vgs",
        "outputId": "bb37331f-958e-4a8a-e190-ef956052c563"
      },
      "source": [
        "#Q-Q plot for Dr. Adebola\n",
        "ax = pg.qqplot(grade[grade.Class=='Dr. Adebola']['TestGrades'], dist='norm')"
      ],
      "execution_count": null,
      "outputs": [
        {
          "output_type": "display_data",
          "data": {
            "image/png": "[encoded data removed]",
            "text/plain": [
              "<Figure size 360x288 with 1 Axes>"
            ]
          },
          "metadata": {
            "needs_background": "light"
          }
        }
      ]
    },
    {
      "cell_type": "markdown",
      "metadata": {
        "id": "3XAkrYbtCJGQ"
      },
      "source": [
        "There are a few small deviations from the two sets of data, especially at the bottom of the plot, which is to be expected given the small data sample. We thus assume normality of the data"
      ]
    },
    {
      "cell_type": "markdown",
      "metadata": {
        "id": "vXeXucg7PIhf"
      },
      "source": [
        "# Statistical Test"
      ]
    },
    {
      "cell_type": "markdown",
      "metadata": {
        "id": "iG7kR6OXDsMJ"
      },
      "source": [
        "We will use paired t test to test for difference between the scores of the two Professors.\n",
        "\n",
        "---\n",
        "We will assume that there is no significance difference between the scores of the two teachers, H0, with the alternative hypothesis being that there is a difference between the scores"
      ]
    },
    {
      "cell_type": "code",
      "metadata": {
        "colab": {
          "base_uri": "https://localhost:8080/",
          "height": 81
        },
        "id": "mFebuYC8H0vK",
        "outputId": "1dafa49e-3bc8-4234-8ac5-85fafbf3579c"
      },
      "source": [
        "pg.pairwise_ttests(dv='TestGrades', between='Class', data=grade).round(5)"
      ],
      "execution_count": null,
      "outputs": [
        {
          "output_type": "execute_result",
          "data": {
            "text/html": [
              "<div>\n",
              "<style scoped>\n",
              "    .dataframe tbody tr th:only-of-type {\n",
              "        vertical-align: middle;\n",
              "    }\n",
              "\n",
              "    .dataframe tbody tr th {\n",
              "        vertical-align: top;\n",
              "    }\n",
              "\n",
              "    .dataframe thead th {\n",
              "        text-align: right;\n",
              "    }\n",
              "</style>\n",
              "<table border=\"1\" class=\"dataframe\">\n",
              "  <thead>\n",
              "    <tr style=\"text-align: right;\">\n",
              "      <th></th>\n",
              "      <th>Contrast</th>\n",
              "      <th>A</th>\n",
              "      <th>B</th>\n",
              "      <th>Paired</th>\n",
              "      <th>Parametric</th>\n",
              "      <th>T</th>\n",
              "      <th>dof</th>\n",
              "      <th>alternative</th>\n",
              "      <th>p-unc</th>\n",
              "      <th>BF10</th>\n",
              "      <th>hedges</th>\n",
              "    </tr>\n",
              "  </thead>\n",
              "  <tbody>\n",
              "    <tr>\n",
              "      <th>0</th>\n",
              "      <td>Class</td>\n",
              "      <td>Dr. Adebola</td>\n",
              "      <td>Dr. Filarnami</td>\n",
              "      <td>False</td>\n",
              "      <td>True</td>\n",
              "      <td>-2.78308</td>\n",
              "      <td>18.0</td>\n",
              "      <td>two-sided</td>\n",
              "      <td>0.01227</td>\n",
              "      <td>4.474</td>\n",
              "      <td>-1.19204</td>\n",
              "    </tr>\n",
              "  </tbody>\n",
              "</table>\n",
              "</div>"
            ],
            "text/plain": [
              "  Contrast            A              B  ...    p-unc   BF10   hedges\n",
              "0    Class  Dr. Adebola  Dr. Filarnami  ...  0.01227  4.474 -1.19204\n",
              "\n",
              "[1 rows x 11 columns]"
            ]
          },
          "metadata": {},
          "execution_count": 23
        }
      ]
    },
    {
      "cell_type": "markdown",
      "metadata": {
        "id": "1Z7cEyFTH7zi"
      },
      "source": [
        "The p-value is **0.01227** which less than **0.05**, We therefore reject the null hypothesis and accept the alternative hypothesis that there is a significance difference between the two groups of scores"
      ]
    },
    {
      "cell_type": "markdown",
      "metadata": {
        "id": "Tuk41hSCJHvy"
      },
      "source": [
        "# Visualizing the differences using seaborn package"
      ]
    },
    {
      "cell_type": "markdown",
      "metadata": {
        "id": "aupUGj8vJJ3a"
      },
      "source": [
        "We look at the difference between the scores of the two Professors, and indeed there is a significance difference in the grading of the two. Dr. Filarnami grades have a higher mean, with lower variance as compared to Dr. Adebola"
      ]
    },
    {
      "cell_type": "code",
      "metadata": {
        "colab": {
          "base_uri": "https://localhost:8080/",
          "height": 297
        },
        "id": "dQ27_X2gJSMa",
        "outputId": "8c40cb04-2e91-4a83-9766-64adbd6a2b3b"
      },
      "source": [
        "import seaborn as sns\n",
        "sns.boxplot(x='Class', y='TestGrades', data=grade)"
      ],
      "execution_count": null,
      "outputs": [
        {
          "output_type": "execute_result",
          "data": {
            "text/plain": [
              "<matplotlib.axes._subplots.AxesSubplot at 0x7fcbf569c650>"
            ]
          },
          "metadata": {},
          "execution_count": 24
        },
        {
          "output_type": "display_data",
          "data": {
            "image/png": "[encoded data removed]",
            "text/plain": [
              "<Figure size 432x288 with 1 Axes>"
            ]
          },
          "metadata": {
            "needs_background": "light"
          }
        }
      ]
    },
    {
      "cell_type": "code",
      "metadata": {
        "colab": {
          "base_uri": "https://localhost:8080/"
        },
        "id": "YXGwixLYKrUH",
        "outputId": "7aa591a5-4938-4678-e108-4f0e955f0f15"
      },
      "source": [
        "#Lets print the Means and standard deviations of the two score groups\n",
        "mean_fila = grade[grade.Class=='Dr. Filarnami']['TestGrades'].mean()\n",
        "mean_adebola = grade[grade.Class=='Dr. Adebola']['TestGrades'].mean()\n",
        "sd_fila = grade[grade.Class=='Dr. Filarnami']['TestGrades'].std()\n",
        "sd_adebola = grade[grade.Class=='Dr. Adebola']['TestGrades'].std()\n",
        "print(\"Dr. Filarnami, Mean:\", str(mean_fila), \" Standard Deviation:\", str(sd_fila), \"\\n\",\"Dr. Adebola, Mean:\",str(mean_adebola),\" Standard Deviation:\",str(sd_adebola), sep=\"\")"
      ],
      "execution_count": null,
      "outputs": [
        {
          "output_type": "stream",
          "name": "stdout",
          "text": [
            "Dr. Filarnami, Mean:88.5 Standard Deviation:7.472170590486631\n",
            "Dr. Adebola, Mean:75.3 Standard Deviation:13.004700005083631\n"
          ]
        }
      ]
    }
  ]
}