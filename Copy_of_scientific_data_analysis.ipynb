{
  "nbformat": 4,
  "nbformat_minor": 0,
  "metadata": {
    "colab": {
      "name": "Copy of scientific_data_analysis.ipynb",
      "provenance": [],
      "include_colab_link": true
    },
    "kernelspec": {
      "display_name": "Python 3",
      "name": "python3"
    }
  },
  "cells": [
    {
      "cell_type": "markdown",
      "metadata": {
        "id": "view-in-github",
        "colab_type": "text"
      },
      "source": [
        "<a href=\"https://colab.research.google.com/github/DianaMutekhele/Scientific-data-Analysis/blob/main/Copy_of_scientific_data_analysis.ipynb\" target=\"_parent\"><img src=\"https://colab.research.google.com/assets/colab-badge.svg\" alt=\"Open In Colab\"/></a>"
      ]
    },
    {
      "cell_type": "code",
      "metadata": {
        "colab": {
          "base_uri": "https://localhost:8080/"
        },
        "id": "H6pSSFzR3x4Y",
        "outputId": "6fabc81c-2dbf-4e4b-e2e8-8e3db2a4dcb9"
      },
      "source": [
        "from google.colab import drive\n",
        "drive.mount(\"/content/drive\")"
      ],
      "execution_count": null,
      "outputs": [
        {
          "output_type": "stream",
          "name": "stdout",
          "text": [
            "Drive already mounted at /content/drive; to attempt to forcibly remount, call drive.mount(\"/content/drive\", force_remount=True).\n"
          ]
        }
      ]
    },
    {
      "cell_type": "markdown",
      "metadata": {
        "id": "qevfl4Mcq9lW"
      },
      "source": [
        "# Introduction\n",
        "\n",
        "#  One-way ANOVA(Analysis of Variance)\n",
        "\n",
        "The one-way ANOVA is a test that is often used to determine if there are differences in means between different categories.\n",
        "\n",
        "I'll use this test, if  I have a nominal and a scale (interval/ratio) variable.\n",
        "\n",
        "There a few different ways you can do this test with Python.   \n",
        "\n",
        "- 1.Pingouin package or \n",
        "\n",
        "- 2.the statsmodels.api. \n"
      ]
    },
    {
      "cell_type": "markdown",
      "metadata": {
        "id": "JqeDlybRuHGC"
      },
      "source": [
        "# 1.Pingouin"
      ]
    },
    {
      "cell_type": "code",
      "metadata": {
        "colab": {
          "base_uri": "https://localhost:8080/"
        },
        "id": "VWFrWwzEztiL",
        "outputId": "e75edb7a-b171-47f7-e053-cbd1abd2e1a7"
      },
      "source": [
        "!pip install pingouin"
      ],
      "execution_count": null,
      "outputs": [
        {
          "output_type": "stream",
          "name": "stdout",
          "text": [
            "Collecting pingouin\n",
            "  Downloading pingouin-0.4.0.tar.gz (206 kB)\n",
            "\u001b[?25l\r\u001b[K     |█▋                              | 10 kB 19.8 MB/s eta 0:00:01\r\u001b[K     |███▏                            | 20 kB 26.4 MB/s eta 0:00:01\r\u001b[K     |████▊                           | 30 kB 13.5 MB/s eta 0:00:01\r\u001b[K     |██████▍                         | 40 kB 10.0 MB/s eta 0:00:01\r\u001b[K     |████████                        | 51 kB 5.2 MB/s eta 0:00:01\r\u001b[K     |█████████▌                      | 61 kB 5.5 MB/s eta 0:00:01\r\u001b[K     |███████████                     | 71 kB 6.0 MB/s eta 0:00:01\r\u001b[K     |████████████▊                   | 81 kB 6.8 MB/s eta 0:00:01\r\u001b[K     |██████████████▎                 | 92 kB 6.9 MB/s eta 0:00:01\r\u001b[K     |███████████████▉                | 102 kB 5.4 MB/s eta 0:00:01\r\u001b[K     |█████████████████▍              | 112 kB 5.4 MB/s eta 0:00:01\r\u001b[K     |███████████████████             | 122 kB 5.4 MB/s eta 0:00:01\r\u001b[K     |████████████████████▋           | 133 kB 5.4 MB/s eta 0:00:01\r\u001b[K     |██████████████████████▏         | 143 kB 5.4 MB/s eta 0:00:01\r\u001b[K     |███████████████████████▊        | 153 kB 5.4 MB/s eta 0:00:01\r\u001b[K     |█████████████████████████▍      | 163 kB 5.4 MB/s eta 0:00:01\r\u001b[K     |███████████████████████████     | 174 kB 5.4 MB/s eta 0:00:01\r\u001b[K     |████████████████████████████▌   | 184 kB 5.4 MB/s eta 0:00:01\r\u001b[K     |██████████████████████████████  | 194 kB 5.4 MB/s eta 0:00:01\r\u001b[K     |███████████████████████████████▊| 204 kB 5.4 MB/s eta 0:00:01\r\u001b[K     |████████████████████████████████| 206 kB 5.4 MB/s \n",
            "\u001b[?25hRequirement already satisfied: numpy>=1.19 in /usr/local/lib/python3.7/dist-packages (from pingouin) (1.19.5)\n",
            "Collecting scipy>=1.7\n",
            "  Downloading scipy-1.7.1-cp37-cp37m-manylinux_2_5_x86_64.manylinux1_x86_64.whl (28.5 MB)\n",
            "\u001b[K     |████████████████████████████████| 28.5 MB 46 kB/s \n",
            "\u001b[?25hRequirement already satisfied: pandas>=1.0 in /usr/local/lib/python3.7/dist-packages (from pingouin) (1.1.5)\n",
            "Requirement already satisfied: matplotlib>=3.0.2 in /usr/local/lib/python3.7/dist-packages (from pingouin) (3.2.2)\n",
            "Requirement already satisfied: seaborn>=0.9.0 in /usr/local/lib/python3.7/dist-packages (from pingouin) (0.11.1)\n",
            "Collecting statsmodels>=0.12.0\n",
            "  Downloading statsmodels-0.12.2-cp37-cp37m-manylinux1_x86_64.whl (9.5 MB)\n",
            "\u001b[K     |████████████████████████████████| 9.5 MB 43.1 MB/s \n",
            "\u001b[?25hRequirement already satisfied: scikit-learn in /usr/local/lib/python3.7/dist-packages (from pingouin) (0.22.2.post1)\n",
            "Collecting pandas_flavor>=0.2.0\n",
            "  Downloading pandas_flavor-0.2.0-py2.py3-none-any.whl (6.6 kB)\n",
            "Collecting outdated\n",
            "  Downloading outdated-0.2.1-py3-none-any.whl (7.5 kB)\n",
            "Requirement already satisfied: tabulate in /usr/local/lib/python3.7/dist-packages (from pingouin) (0.8.9)\n",
            "Requirement already satisfied: cycler>=0.10 in /usr/local/lib/python3.7/dist-packages (from matplotlib>=3.0.2->pingouin) (0.10.0)\n",
            "Requirement already satisfied: python-dateutil>=2.1 in /usr/local/lib/python3.7/dist-packages (from matplotlib>=3.0.2->pingouin) (2.8.2)\n",
            "Requirement already satisfied: kiwisolver>=1.0.1 in /usr/local/lib/python3.7/dist-packages (from matplotlib>=3.0.2->pingouin) (1.3.1)\n",
            "Requirement already satisfied: pyparsing!=2.0.4,!=2.1.2,!=2.1.6,>=2.0.1 in /usr/local/lib/python3.7/dist-packages (from matplotlib>=3.0.2->pingouin) (2.4.7)\n",
            "Requirement already satisfied: six in /usr/local/lib/python3.7/dist-packages (from cycler>=0.10->matplotlib>=3.0.2->pingouin) (1.15.0)\n",
            "Requirement already satisfied: pytz>=2017.2 in /usr/local/lib/python3.7/dist-packages (from pandas>=1.0->pingouin) (2018.9)\n",
            "Requirement already satisfied: xarray in /usr/local/lib/python3.7/dist-packages (from pandas_flavor>=0.2.0->pingouin) (0.18.2)\n",
            "Requirement already satisfied: patsy>=0.5 in /usr/local/lib/python3.7/dist-packages (from statsmodels>=0.12.0->pingouin) (0.5.1)\n",
            "Requirement already satisfied: requests in /usr/local/lib/python3.7/dist-packages (from outdated->pingouin) (2.23.0)\n",
            "Collecting littleutils\n",
            "  Downloading littleutils-0.2.2.tar.gz (6.6 kB)\n",
            "Requirement already satisfied: chardet<4,>=3.0.2 in /usr/local/lib/python3.7/dist-packages (from requests->outdated->pingouin) (3.0.4)\n",
            "Requirement already satisfied: certifi>=2017.4.17 in /usr/local/lib/python3.7/dist-packages (from requests->outdated->pingouin) (2021.5.30)\n",
            "Requirement already satisfied: idna<3,>=2.5 in /usr/local/lib/python3.7/dist-packages (from requests->outdated->pingouin) (2.10)\n",
            "Requirement already satisfied: urllib3!=1.25.0,!=1.25.1,<1.26,>=1.21.1 in /usr/local/lib/python3.7/dist-packages (from requests->outdated->pingouin) (1.24.3)\n",
            "Requirement already satisfied: joblib>=0.11 in /usr/local/lib/python3.7/dist-packages (from scikit-learn->pingouin) (1.0.1)\n",
            "Requirement already satisfied: setuptools>=40.4 in /usr/local/lib/python3.7/dist-packages (from xarray->pandas_flavor>=0.2.0->pingouin) (57.4.0)\n",
            "Building wheels for collected packages: pingouin, littleutils\n",
            "  Building wheel for pingouin (setup.py) ... \u001b[?25l\u001b[?25hdone\n",
            "  Created wheel for pingouin: filename=pingouin-0.4.0-py3-none-any.whl size=206904 sha256=2184aedf94f775d46ddce3eff375ab8edb33b94ccd69287516124da8a1111ec9\n",
            "  Stored in directory: /root/.cache/pip/wheels/8a/9d/c4/11677c2c4d5c0df9d1d4aa61528d868bb96e13b898e3f51c95\n",
            "  Building wheel for littleutils (setup.py) ... \u001b[?25l\u001b[?25hdone\n",
            "  Created wheel for littleutils: filename=littleutils-0.2.2-py3-none-any.whl size=7048 sha256=fe95a6399190798bfab0cd285bdb4e422e21fa83a3a17d06c0f5349c4a03dace\n",
            "  Stored in directory: /root/.cache/pip/wheels/d6/64/cd/32819b511a488e4993f2fab909a95330289c3f4e0f6ef4676d\n",
            "Successfully built pingouin littleutils\n",
            "Installing collected packages: scipy, littleutils, statsmodels, pandas-flavor, outdated, pingouin\n",
            "  Attempting uninstall: scipy\n",
            "    Found existing installation: scipy 1.4.1\n",
            "    Uninstalling scipy-1.4.1:\n",
            "      Successfully uninstalled scipy-1.4.1\n",
            "  Attempting uninstall: statsmodels\n",
            "    Found existing installation: statsmodels 0.10.2\n",
            "    Uninstalling statsmodels-0.10.2:\n",
            "      Successfully uninstalled statsmodels-0.10.2\n",
            "\u001b[31mERROR: pip's dependency resolver does not currently take into account all the packages that are installed. This behaviour is the source of the following dependency conflicts.\n",
            "albumentations 0.1.12 requires imgaug<0.2.7,>=0.2.5, but you have imgaug 0.2.9 which is incompatible.\u001b[0m\n",
            "Successfully installed littleutils-0.2.2 outdated-0.2.1 pandas-flavor-0.2.0 pingouin-0.4.0 scipy-1.7.1 statsmodels-0.12.2\n"
          ]
        }
      ]
    },
    {
      "cell_type": "code",
      "metadata": {
        "id": "67L6cEvqzgxx"
      },
      "source": [
        "import pandas as pd\n",
        "import pingouin as pg"
      ],
      "execution_count": null,
      "outputs": []
    },
    {
      "cell_type": "code",
      "metadata": {
        "id": "2Xl9xDBSuE1d"
      },
      "source": [
        "df=pd.read_csv(\"/content/drive/MyDrive/Anova_data/airline_altitude.csv\")"
      ],
      "execution_count": null,
      "outputs": []
    },
    {
      "cell_type": "code",
      "metadata": {
        "colab": {
          "base_uri": "https://localhost:8080/",
          "height": 200
        },
        "id": "yi0xZi4rt0GA",
        "outputId": "94bc8d15-1377-43ee-990b-5d1c1826e28f"
      },
      "source": [
        "df.head()"
      ],
      "execution_count": null,
      "outputs": [
        {
          "output_type": "execute_result",
          "data": {
            "text/html": [
              "<div>\n",
              "<style scoped>\n",
              "    .dataframe tbody tr th:only-of-type {\n",
              "        vertical-align: middle;\n",
              "    }\n",
              "\n",
              "    .dataframe tbody tr th {\n",
              "        vertical-align: top;\n",
              "    }\n",
              "\n",
              "    .dataframe thead th {\n",
              "        text-align: right;\n",
              "    }\n",
              "</style>\n",
              "<table border=\"1\" class=\"dataframe\">\n",
              "  <thead>\n",
              "    <tr style=\"text-align: right;\">\n",
              "      <th></th>\n",
              "      <th>Average Flight Altitude</th>\n",
              "      <th>Airline</th>\n",
              "      <th>Altitude</th>\n",
              "    </tr>\n",
              "  </thead>\n",
              "  <tbody>\n",
              "    <tr>\n",
              "      <th>0</th>\n",
              "      <td>January</td>\n",
              "      <td>Qatar</td>\n",
              "      <td>34000</td>\n",
              "    </tr>\n",
              "    <tr>\n",
              "      <th>1</th>\n",
              "      <td>February</td>\n",
              "      <td>Qatar</td>\n",
              "      <td>35000</td>\n",
              "    </tr>\n",
              "    <tr>\n",
              "      <th>2</th>\n",
              "      <td>March</td>\n",
              "      <td>Qatar</td>\n",
              "      <td>33500</td>\n",
              "    </tr>\n",
              "    <tr>\n",
              "      <th>3</th>\n",
              "      <td>April</td>\n",
              "      <td>Qatar</td>\n",
              "      <td>40000</td>\n",
              "    </tr>\n",
              "    <tr>\n",
              "      <th>4</th>\n",
              "      <td>May</td>\n",
              "      <td>Qatar</td>\n",
              "      <td>32000</td>\n",
              "    </tr>\n",
              "  </tbody>\n",
              "</table>\n",
              "</div>"
            ],
            "text/plain": [
              "  Average Flight Altitude Airline  Altitude\n",
              "0                 January   Qatar     34000\n",
              "1                February   Qatar     35000\n",
              "2                   March   Qatar     33500\n",
              "3                   April   Qatar     40000\n",
              "4                     May   Qatar     32000"
            ]
          },
          "metadata": {},
          "execution_count": 6
        }
      ]
    },
    {
      "cell_type": "code",
      "metadata": {
        "id": "BKaH84x0nDiN"
      },
      "source": [
        "df.rename({\"Average Flight Altitude\":\"Months\"},inplace=True,axis=1)"
      ],
      "execution_count": null,
      "outputs": []
    },
    {
      "cell_type": "code",
      "metadata": {
        "colab": {
          "base_uri": "https://localhost:8080/",
          "height": 200
        },
        "id": "VyVLZcmWnTcc",
        "outputId": "fa4abf3f-2144-4fa8-f973-a1fbf953b207"
      },
      "source": [
        "df.head()"
      ],
      "execution_count": null,
      "outputs": [
        {
          "output_type": "execute_result",
          "data": {
            "text/html": [
              "<div>\n",
              "<style scoped>\n",
              "    .dataframe tbody tr th:only-of-type {\n",
              "        vertical-align: middle;\n",
              "    }\n",
              "\n",
              "    .dataframe tbody tr th {\n",
              "        vertical-align: top;\n",
              "    }\n",
              "\n",
              "    .dataframe thead th {\n",
              "        text-align: right;\n",
              "    }\n",
              "</style>\n",
              "<table border=\"1\" class=\"dataframe\">\n",
              "  <thead>\n",
              "    <tr style=\"text-align: right;\">\n",
              "      <th></th>\n",
              "      <th>Months</th>\n",
              "      <th>Airline</th>\n",
              "      <th>Altitude</th>\n",
              "    </tr>\n",
              "  </thead>\n",
              "  <tbody>\n",
              "    <tr>\n",
              "      <th>0</th>\n",
              "      <td>January</td>\n",
              "      <td>Qatar</td>\n",
              "      <td>34000</td>\n",
              "    </tr>\n",
              "    <tr>\n",
              "      <th>1</th>\n",
              "      <td>February</td>\n",
              "      <td>Qatar</td>\n",
              "      <td>35000</td>\n",
              "    </tr>\n",
              "    <tr>\n",
              "      <th>2</th>\n",
              "      <td>March</td>\n",
              "      <td>Qatar</td>\n",
              "      <td>33500</td>\n",
              "    </tr>\n",
              "    <tr>\n",
              "      <th>3</th>\n",
              "      <td>April</td>\n",
              "      <td>Qatar</td>\n",
              "      <td>40000</td>\n",
              "    </tr>\n",
              "    <tr>\n",
              "      <th>4</th>\n",
              "      <td>May</td>\n",
              "      <td>Qatar</td>\n",
              "      <td>32000</td>\n",
              "    </tr>\n",
              "  </tbody>\n",
              "</table>\n",
              "</div>"
            ],
            "text/plain": [
              "     Months Airline  Altitude\n",
              "0   January   Qatar     34000\n",
              "1  February   Qatar     35000\n",
              "2     March   Qatar     33500\n",
              "3     April   Qatar     40000\n",
              "4       May   Qatar     32000"
            ]
          },
          "metadata": {},
          "execution_count": 8
        }
      ]
    },
    {
      "cell_type": "code",
      "metadata": {
        "colab": {
          "base_uri": "https://localhost:8080/"
        },
        "id": "ruTQbXsP01vU",
        "outputId": "2868b1f4-4a38-4ea7-a93f-409fefd8b5cf"
      },
      "source": [
        "df['Months'].unique()"
      ],
      "execution_count": null,
      "outputs": [
        {
          "output_type": "execute_result",
          "data": {
            "text/plain": [
              "array(['January', 'February', 'March', 'April', 'May', 'June', 'July',\n",
              "       'August', 'September', 'October', 'November', 'December'],\n",
              "      dtype=object)"
            ]
          },
          "metadata": {},
          "execution_count": 9
        }
      ]
    },
    {
      "cell_type": "code",
      "metadata": {
        "colab": {
          "base_uri": "https://localhost:8080/"
        },
        "id": "3lQzE711z6HA",
        "outputId": "7ebaff2c-9402-4c0d-abf1-5db39de6692e"
      },
      "source": [
        "df.info()"
      ],
      "execution_count": null,
      "outputs": [
        {
          "output_type": "stream",
          "name": "stdout",
          "text": [
            "<class 'pandas.core.frame.DataFrame'>\n",
            "RangeIndex: 35 entries, 0 to 34\n",
            "Data columns (total 3 columns):\n",
            " #   Column    Non-Null Count  Dtype \n",
            "---  ------    --------------  ----- \n",
            " 0   Months    35 non-null     object\n",
            " 1   Airline   35 non-null     object\n",
            " 2   Altitude  35 non-null     int64 \n",
            "dtypes: int64(1), object(2)\n",
            "memory usage: 968.0+ bytes\n"
          ]
        }
      ]
    },
    {
      "cell_type": "code",
      "metadata": {
        "colab": {
          "base_uri": "https://localhost:8080/"
        },
        "id": "VaxbKu-Wnp3Z",
        "outputId": "1f9353fd-988e-444d-94ba-24ae4a04d0f2"
      },
      "source": [
        "df.Airline.unique()"
      ],
      "execution_count": null,
      "outputs": [
        {
          "output_type": "execute_result",
          "data": {
            "text/plain": [
              "array(['Qatar', 'kq'], dtype=object)"
            ]
          },
          "metadata": {},
          "execution_count": 11
        }
      ]
    },
    {
      "cell_type": "code",
      "metadata": {
        "id": "owEmVRqTz9tj"
      },
      "source": [
        "'''\n",
        "Now we  use pingouin's 'anova' function. \n",
        "This takes   \n",
        "dv (depending variable) : which is our scale variable, \n",
        "the between : which is the variable with the categories (our nominal variable),\n",
        "and if we want to see the results in a nice dataframe with \n",
        "detailed set to True.\n",
        "'''\n",
        "aov = pg.anova(dv='Altitude', between='Airline', data=df, detailed=True)\n"
      ],
      "execution_count": null,
      "outputs": []
    },
    {
      "cell_type": "code",
      "metadata": {
        "colab": {
          "base_uri": "https://localhost:8080/",
          "height": 108
        },
        "id": "lhFZ5mKL0edk",
        "outputId": "bca2c11a-a715-41fd-c746-e325c76c8a21"
      },
      "source": [
        "aov"
      ],
      "execution_count": null,
      "outputs": [
        {
          "output_type": "execute_result",
          "data": {
            "text/html": [
              "<div>\n",
              "<style scoped>\n",
              "    .dataframe tbody tr th:only-of-type {\n",
              "        vertical-align: middle;\n",
              "    }\n",
              "\n",
              "    .dataframe tbody tr th {\n",
              "        vertical-align: top;\n",
              "    }\n",
              "\n",
              "    .dataframe thead th {\n",
              "        text-align: right;\n",
              "    }\n",
              "</style>\n",
              "<table border=\"1\" class=\"dataframe\">\n",
              "  <thead>\n",
              "    <tr style=\"text-align: right;\">\n",
              "      <th></th>\n",
              "      <th>Source</th>\n",
              "      <th>SS</th>\n",
              "      <th>DF</th>\n",
              "      <th>MS</th>\n",
              "      <th>F</th>\n",
              "      <th>p-unc</th>\n",
              "      <th>np2</th>\n",
              "    </tr>\n",
              "  </thead>\n",
              "  <tbody>\n",
              "    <tr>\n",
              "      <th>0</th>\n",
              "      <td>Airline</td>\n",
              "      <td>7.020214e+08</td>\n",
              "      <td>1</td>\n",
              "      <td>7.020214e+08</td>\n",
              "      <td>149.607408</td>\n",
              "      <td>8.325396e-14</td>\n",
              "      <td>0.819284</td>\n",
              "    </tr>\n",
              "    <tr>\n",
              "      <th>1</th>\n",
              "      <td>Within</td>\n",
              "      <td>1.548500e+08</td>\n",
              "      <td>33</td>\n",
              "      <td>4.692424e+06</td>\n",
              "      <td>NaN</td>\n",
              "      <td>NaN</td>\n",
              "      <td>NaN</td>\n",
              "    </tr>\n",
              "  </tbody>\n",
              "</table>\n",
              "</div>"
            ],
            "text/plain": [
              "    Source            SS  DF            MS           F         p-unc       np2\n",
              "0  Airline  7.020214e+08   1  7.020214e+08  149.607408  8.325396e-14  0.819284\n",
              "1   Within  1.548500e+08  33  4.692424e+06         NaN           NaN       NaN"
            ]
          },
          "metadata": {},
          "execution_count": 14
        }
      ]
    },
    {
      "cell_type": "markdown",
      "metadata": {
        "id": "r6DC1zwz12k8"
      },
      "source": [
        "# Interpretation\n",
        "The most important result is probably the 'p-unc'. This is the p-value (also known as significance). It is the chance of an F value as in the sample, or even more extreme, if the assumption about the population would be true. The assumption is that all categories have the same mean in the population. With a p-value of 8.325396e-14\t this is below the usual threshold of 0.05. We would therefore conclude that the Airline has a significant influence on the 'Altitude'."
      ]
    },
    {
      "cell_type": "code",
      "metadata": {
        "colab": {
          "base_uri": "https://localhost:8080/"
        },
        "id": "Fcup-uf30-ef",
        "outputId": "95acb346-31e0-4b08-d0ed-27c120cdacdf"
      },
      "source": [
        "df['Airline'].unique()"
      ],
      "execution_count": null,
      "outputs": [
        {
          "output_type": "execute_result",
          "data": {
            "text/plain": [
              "array(['Qatar', 'kq'], dtype=object)"
            ]
          },
          "metadata": {},
          "execution_count": 15
        }
      ]
    },
    {
      "cell_type": "code",
      "metadata": {
        "id": "JGgC77lf1W-x"
      },
      "source": [
        "aov2 = pg.anova(dv='Altitude', between='Months', data=df, detailed=True)\n"
      ],
      "execution_count": null,
      "outputs": []
    },
    {
      "cell_type": "code",
      "metadata": {
        "colab": {
          "base_uri": "https://localhost:8080/",
          "height": 108
        },
        "id": "UZdNWnUe3DMW",
        "outputId": "40e35e0d-2ad8-40f9-d85f-1673a0e9f8fa"
      },
      "source": [
        "aov2"
      ],
      "execution_count": null,
      "outputs": [
        {
          "output_type": "execute_result",
          "data": {
            "text/html": [
              "<div>\n",
              "<style scoped>\n",
              "    .dataframe tbody tr th:only-of-type {\n",
              "        vertical-align: middle;\n",
              "    }\n",
              "\n",
              "    .dataframe tbody tr th {\n",
              "        vertical-align: top;\n",
              "    }\n",
              "\n",
              "    .dataframe thead th {\n",
              "        text-align: right;\n",
              "    }\n",
              "</style>\n",
              "<table border=\"1\" class=\"dataframe\">\n",
              "  <thead>\n",
              "    <tr style=\"text-align: right;\">\n",
              "      <th></th>\n",
              "      <th>Source</th>\n",
              "      <th>SS</th>\n",
              "      <th>DF</th>\n",
              "      <th>MS</th>\n",
              "      <th>F</th>\n",
              "      <th>p-unc</th>\n",
              "      <th>np2</th>\n",
              "    </tr>\n",
              "  </thead>\n",
              "  <tbody>\n",
              "    <tr>\n",
              "      <th>0</th>\n",
              "      <td>Months</td>\n",
              "      <td>5.052976e+07</td>\n",
              "      <td>11</td>\n",
              "      <td>4.593615e+06</td>\n",
              "      <td>0.131028</td>\n",
              "      <td>0.99938</td>\n",
              "      <td>0.05897</td>\n",
              "    </tr>\n",
              "    <tr>\n",
              "      <th>1</th>\n",
              "      <td>Within</td>\n",
              "      <td>8.063417e+08</td>\n",
              "      <td>23</td>\n",
              "      <td>3.505833e+07</td>\n",
              "      <td>NaN</td>\n",
              "      <td>NaN</td>\n",
              "      <td>NaN</td>\n",
              "    </tr>\n",
              "  </tbody>\n",
              "</table>\n",
              "</div>"
            ],
            "text/plain": [
              "   Source            SS  DF            MS         F    p-unc      np2\n",
              "0  Months  5.052976e+07  11  4.593615e+06  0.131028  0.99938  0.05897\n",
              "1  Within  8.063417e+08  23  3.505833e+07       NaN      NaN      NaN"
            ]
          },
          "metadata": {},
          "execution_count": 17
        }
      ]
    },
    {
      "cell_type": "markdown",
      "metadata": {
        "id": "wiCg7F_d5CDg"
      },
      "source": [
        "# StatModels API"
      ]
    },
    {
      "cell_type": "code",
      "metadata": {
        "id": "Wsix0C0Y42Z8"
      },
      "source": [
        "import statsmodels.api as sm"
      ],
      "execution_count": null,
      "outputs": []
    },
    {
      "cell_type": "code",
      "metadata": {
        "id": "gO1lHoFQ5HiU"
      },
      "source": [
        "from statsmodels.formula.api import ols#load the ols function"
      ],
      "execution_count": null,
      "outputs": []
    },
    {
      "cell_type": "code",
      "metadata": {
        "id": "wOzmgoFQ5nxS"
      },
      "source": [
        "'''\n",
        "We then use ols function to create a model. \n",
        "As input we use the scale variable, \n",
        "followed by a ~, and then the nominal variable.\n",
        "We also immediately fit this model with fit function.\n",
        "'''\n",
        "model = ols('Altitude ~ Airline', data=df).fit()"
      ],
      "execution_count": null,
      "outputs": []
    },
    {
      "cell_type": "code",
      "metadata": {
        "id": "Js_tXim46KIj"
      },
      "source": [
        "'''\n",
        "We now use the 'stats.anova_lm' \n",
        "function to see the results:\n",
        "'''\n",
        "\n",
        "aovRes = sm.stats.anova_lm(model, typ=2)\n"
      ],
      "execution_count": null,
      "outputs": []
    },
    {
      "cell_type": "code",
      "metadata": {
        "colab": {
          "base_uri": "https://localhost:8080/",
          "height": 108
        },
        "id": "UrXSzOSV6vW1",
        "outputId": "ba5dd172-20e4-433b-9b61-4b0bad92ca29"
      },
      "source": [
        "aovRes"
      ],
      "execution_count": null,
      "outputs": [
        {
          "output_type": "execute_result",
          "data": {
            "text/html": [
              "<div>\n",
              "<style scoped>\n",
              "    .dataframe tbody tr th:only-of-type {\n",
              "        vertical-align: middle;\n",
              "    }\n",
              "\n",
              "    .dataframe tbody tr th {\n",
              "        vertical-align: top;\n",
              "    }\n",
              "\n",
              "    .dataframe thead th {\n",
              "        text-align: right;\n",
              "    }\n",
              "</style>\n",
              "<table border=\"1\" class=\"dataframe\">\n",
              "  <thead>\n",
              "    <tr style=\"text-align: right;\">\n",
              "      <th></th>\n",
              "      <th>sum_sq</th>\n",
              "      <th>df</th>\n",
              "      <th>F</th>\n",
              "      <th>PR(&gt;F)</th>\n",
              "    </tr>\n",
              "  </thead>\n",
              "  <tbody>\n",
              "    <tr>\n",
              "      <th>Airline</th>\n",
              "      <td>7.020214e+08</td>\n",
              "      <td>1.0</td>\n",
              "      <td>149.607408</td>\n",
              "      <td>8.325396e-14</td>\n",
              "    </tr>\n",
              "    <tr>\n",
              "      <th>Residual</th>\n",
              "      <td>1.548500e+08</td>\n",
              "      <td>33.0</td>\n",
              "      <td>NaN</td>\n",
              "      <td>NaN</td>\n",
              "    </tr>\n",
              "  </tbody>\n",
              "</table>\n",
              "</div>"
            ],
            "text/plain": [
              "                sum_sq    df           F        PR(>F)\n",
              "Airline   7.020214e+08   1.0  149.607408  8.325396e-14\n",
              "Residual  1.548500e+08  33.0         NaN           NaN"
            ]
          },
          "metadata": {},
          "execution_count": 22
        }
      ]
    },
    {
      "cell_type": "code",
      "metadata": {
        "id": "HOAzKYKWq8X9"
      },
      "source": [
        "model =ols(\"Altitude ~ Months\",data=df).fit()"
      ],
      "execution_count": null,
      "outputs": []
    },
    {
      "cell_type": "code",
      "metadata": {
        "id": "uql93GG7rLk7"
      },
      "source": [
        "aovResmonth =sm.stats.anova_lm(model,typ=2)"
      ],
      "execution_count": null,
      "outputs": []
    },
    {
      "cell_type": "code",
      "metadata": {
        "colab": {
          "base_uri": "https://localhost:8080/",
          "height": 108
        },
        "id": "PSWRhz_9rYtQ",
        "outputId": "85e7a6c7-0bc2-417c-9845-ed21973f00ed"
      },
      "source": [
        "aovResmonth"
      ],
      "execution_count": null,
      "outputs": [
        {
          "output_type": "execute_result",
          "data": {
            "text/html": [
              "<div>\n",
              "<style scoped>\n",
              "    .dataframe tbody tr th:only-of-type {\n",
              "        vertical-align: middle;\n",
              "    }\n",
              "\n",
              "    .dataframe tbody tr th {\n",
              "        vertical-align: top;\n",
              "    }\n",
              "\n",
              "    .dataframe thead th {\n",
              "        text-align: right;\n",
              "    }\n",
              "</style>\n",
              "<table border=\"1\" class=\"dataframe\">\n",
              "  <thead>\n",
              "    <tr style=\"text-align: right;\">\n",
              "      <th></th>\n",
              "      <th>sum_sq</th>\n",
              "      <th>df</th>\n",
              "      <th>F</th>\n",
              "      <th>PR(&gt;F)</th>\n",
              "    </tr>\n",
              "  </thead>\n",
              "  <tbody>\n",
              "    <tr>\n",
              "      <th>Months</th>\n",
              "      <td>5.052976e+07</td>\n",
              "      <td>11.0</td>\n",
              "      <td>0.131028</td>\n",
              "      <td>0.99938</td>\n",
              "    </tr>\n",
              "    <tr>\n",
              "      <th>Residual</th>\n",
              "      <td>8.063417e+08</td>\n",
              "      <td>23.0</td>\n",
              "      <td>NaN</td>\n",
              "      <td>NaN</td>\n",
              "    </tr>\n",
              "  </tbody>\n",
              "</table>\n",
              "</div>"
            ],
            "text/plain": [
              "                sum_sq    df         F   PR(>F)\n",
              "Months    5.052976e+07  11.0  0.131028  0.99938\n",
              "Residual  8.063417e+08  23.0       NaN      NaN"
            ]
          },
          "metadata": {},
          "execution_count": 25
        }
      ]
    },
    {
      "cell_type": "markdown",
      "metadata": {
        "id": "ANkwe-Q9-psY"
      },
      "source": [
        "# Paired Samples t-Test\n",
        "A paired samples t-test can be used to check if the difference in the population will also be different from zero (i.e. the two means are not the same).\n",
        "\n",
        "- I'll use this test, if I have two scale variables thatb are related\n",
        " - DV should not contain any significant outliers"
      ]
    },
    {
      "cell_type": "code",
      "metadata": {
        "id": "ReYyMZDn6wi9"
      },
      "source": [
        "df=pd.read_csv(\"/content/drive/MyDrive/Anova_data/blood_pressure.csv\")"
      ],
      "execution_count": null,
      "outputs": []
    },
    {
      "cell_type": "code",
      "metadata": {
        "colab": {
          "base_uri": "https://localhost:8080/",
          "height": 200
        },
        "id": "t-ta1DWMB8gt",
        "outputId": "eb4f6b68-415d-4a11-c524-50877912d11f"
      },
      "source": [
        "df.head()"
      ],
      "execution_count": null,
      "outputs": [
        {
          "output_type": "execute_result",
          "data": {
            "text/html": [
              "<div>\n",
              "<style scoped>\n",
              "    .dataframe tbody tr th:only-of-type {\n",
              "        vertical-align: middle;\n",
              "    }\n",
              "\n",
              "    .dataframe tbody tr th {\n",
              "        vertical-align: top;\n",
              "    }\n",
              "\n",
              "    .dataframe thead th {\n",
              "        text-align: right;\n",
              "    }\n",
              "</style>\n",
              "<table border=\"1\" class=\"dataframe\">\n",
              "  <thead>\n",
              "    <tr style=\"text-align: right;\">\n",
              "      <th></th>\n",
              "      <th>patient</th>\n",
              "      <th>sex</th>\n",
              "      <th>agegrp</th>\n",
              "      <th>bp_before</th>\n",
              "      <th>bp_after</th>\n",
              "    </tr>\n",
              "  </thead>\n",
              "  <tbody>\n",
              "    <tr>\n",
              "      <th>0</th>\n",
              "      <td>1</td>\n",
              "      <td>Male</td>\n",
              "      <td>30-45</td>\n",
              "      <td>143</td>\n",
              "      <td>153</td>\n",
              "    </tr>\n",
              "    <tr>\n",
              "      <th>1</th>\n",
              "      <td>2</td>\n",
              "      <td>Male</td>\n",
              "      <td>30-45</td>\n",
              "      <td>163</td>\n",
              "      <td>170</td>\n",
              "    </tr>\n",
              "    <tr>\n",
              "      <th>2</th>\n",
              "      <td>3</td>\n",
              "      <td>Male</td>\n",
              "      <td>30-45</td>\n",
              "      <td>153</td>\n",
              "      <td>168</td>\n",
              "    </tr>\n",
              "    <tr>\n",
              "      <th>3</th>\n",
              "      <td>4</td>\n",
              "      <td>Male</td>\n",
              "      <td>30-45</td>\n",
              "      <td>153</td>\n",
              "      <td>142</td>\n",
              "    </tr>\n",
              "    <tr>\n",
              "      <th>4</th>\n",
              "      <td>5</td>\n",
              "      <td>Male</td>\n",
              "      <td>30-45</td>\n",
              "      <td>146</td>\n",
              "      <td>141</td>\n",
              "    </tr>\n",
              "  </tbody>\n",
              "</table>\n",
              "</div>"
            ],
            "text/plain": [
              "   patient   sex agegrp  bp_before  bp_after\n",
              "0        1  Male  30-45        143       153\n",
              "1        2  Male  30-45        163       170\n",
              "2        3  Male  30-45        153       168\n",
              "3        4  Male  30-45        153       142\n",
              "4        5  Male  30-45        146       141"
            ]
          },
          "metadata": {},
          "execution_count": 27
        }
      ]
    },
    {
      "cell_type": "code",
      "metadata": {
        "colab": {
          "base_uri": "https://localhost:8080/",
          "height": 290
        },
        "id": "G_qLOW9gB92H",
        "outputId": "b0671745-6ebc-4030-b604-46fe8c71d52e"
      },
      "source": [
        "df[['bp_before','bp_after']].describe()"
      ],
      "execution_count": null,
      "outputs": [
        {
          "output_type": "execute_result",
          "data": {
            "text/html": [
              "<div>\n",
              "<style scoped>\n",
              "    .dataframe tbody tr th:only-of-type {\n",
              "        vertical-align: middle;\n",
              "    }\n",
              "\n",
              "    .dataframe tbody tr th {\n",
              "        vertical-align: top;\n",
              "    }\n",
              "\n",
              "    .dataframe thead th {\n",
              "        text-align: right;\n",
              "    }\n",
              "</style>\n",
              "<table border=\"1\" class=\"dataframe\">\n",
              "  <thead>\n",
              "    <tr style=\"text-align: right;\">\n",
              "      <th></th>\n",
              "      <th>bp_before</th>\n",
              "      <th>bp_after</th>\n",
              "    </tr>\n",
              "  </thead>\n",
              "  <tbody>\n",
              "    <tr>\n",
              "      <th>count</th>\n",
              "      <td>120.000000</td>\n",
              "      <td>120.000000</td>\n",
              "    </tr>\n",
              "    <tr>\n",
              "      <th>mean</th>\n",
              "      <td>156.450000</td>\n",
              "      <td>151.358333</td>\n",
              "    </tr>\n",
              "    <tr>\n",
              "      <th>std</th>\n",
              "      <td>11.389845</td>\n",
              "      <td>14.177622</td>\n",
              "    </tr>\n",
              "    <tr>\n",
              "      <th>min</th>\n",
              "      <td>138.000000</td>\n",
              "      <td>125.000000</td>\n",
              "    </tr>\n",
              "    <tr>\n",
              "      <th>25%</th>\n",
              "      <td>147.000000</td>\n",
              "      <td>140.750000</td>\n",
              "    </tr>\n",
              "    <tr>\n",
              "      <th>50%</th>\n",
              "      <td>154.500000</td>\n",
              "      <td>149.500000</td>\n",
              "    </tr>\n",
              "    <tr>\n",
              "      <th>75%</th>\n",
              "      <td>164.000000</td>\n",
              "      <td>161.000000</td>\n",
              "    </tr>\n",
              "    <tr>\n",
              "      <th>max</th>\n",
              "      <td>185.000000</td>\n",
              "      <td>185.000000</td>\n",
              "    </tr>\n",
              "  </tbody>\n",
              "</table>\n",
              "</div>"
            ],
            "text/plain": [
              "        bp_before    bp_after\n",
              "count  120.000000  120.000000\n",
              "mean   156.450000  151.358333\n",
              "std     11.389845   14.177622\n",
              "min    138.000000  125.000000\n",
              "25%    147.000000  140.750000\n",
              "50%    154.500000  149.500000\n",
              "75%    164.000000  161.000000\n",
              "max    185.000000  185.000000"
            ]
          },
          "metadata": {},
          "execution_count": 28
        }
      ]
    },
    {
      "cell_type": "code",
      "metadata": {
        "colab": {
          "base_uri": "https://localhost:8080/",
          "height": 328
        },
        "id": "6KaNBkWECRuz",
        "outputId": "19d619ea-e186-4980-ae37-656aced7f403"
      },
      "source": [
        "#check if we have outliers\n",
        "import seaborn as sns\n",
        "sns.boxplot(x='bp_before',data=df,orient='v')\n"
      ],
      "execution_count": null,
      "outputs": [
        {
          "output_type": "stream",
          "name": "stderr",
          "text": [
            "/usr/local/lib/python3.7/dist-packages/seaborn/_core.py:1319: UserWarning: Vertical orientation ignored with only `x` specified.\n",
            "  warnings.warn(single_var_warning.format(\"Vertical\", \"x\"))\n"
          ]
        },
        {
          "output_type": "execute_result",
          "data": {
            "text/plain": [
              "<matplotlib.axes._subplots.AxesSubplot at 0x7f1a20d86110>"
            ]
          },
          "metadata": {},
          "execution_count": 42
        },
        {
          "output_type": "display_data",
          "data": {
            "image/png": "[encoded data removed]",
            "text/plain": [
              "<Figure size 432x288 with 1 Axes>"
            ]
          },
          "metadata": {
            "needs_background": "light"
          }
        }
      ]
    },
    {
      "cell_type": "code",
      "metadata": {
        "colab": {
          "base_uri": "https://localhost:8080/",
          "height": 296
        },
        "id": "O4IFJMHTDABq",
        "outputId": "42537ce0-5f4d-420b-b587-161e9f07e43d"
      },
      "source": [
        "sns.boxplot(x='bp_after',data=df,orient='h')\n"
      ],
      "execution_count": null,
      "outputs": [
        {
          "output_type": "execute_result",
          "data": {
            "text/plain": [
              "<matplotlib.axes._subplots.AxesSubplot at 0x7f1a2371f610>"
            ]
          },
          "metadata": {},
          "execution_count": 30
        },
        {
          "output_type": "display_data",
          "data": {
            "image/png": "[encoded data removed]",
            "text/plain": [
              "<Figure size 432x288 with 1 Axes>"
            ]
          },
          "metadata": {
            "needs_background": "light"
          }
        }
      ]
    },
    {
      "cell_type": "code",
      "metadata": {
        "id": "3uB81pcND6Ky"
      },
      "source": [
        "'''\n",
        "we then use  'ttest_rel' function of the scipy.stats package\n",
        "'''\n",
        "from scipy.stats import ttest_rel"
      ],
      "execution_count": null,
      "outputs": []
    },
    {
      "cell_type": "code",
      "metadata": {
        "colab": {
          "base_uri": "https://localhost:8080/"
        },
        "id": "7mPe7UWPEaKh",
        "outputId": "43f9e8d9-32fe-42de-cb2b-9634f2672463"
      },
      "source": [
        "ttest_rel(df['bp_before'], df['bp_after'])\n"
      ],
      "execution_count": null,
      "outputs": [
        {
          "output_type": "execute_result",
          "data": {
            "text/plain": [
              "Ttest_relResult(statistic=3.3371870510833657, pvalue=0.0011297914644840823)"
            ]
          },
          "metadata": {},
          "execution_count": 32
        }
      ]
    },
    {
      "cell_type": "markdown",
      "metadata": {
        "id": "WukW9Ey1E5vl"
      },
      "source": [
        "# Results And Interpretation\n",
        "The findings are statistically significant! One can reject the null hypothesis in support of the alternative.\n",
        "\n",
        "#Explanation\n",
        "A paired sample t-test was used to analyze the blood pressure before and after the intervention to test if the intervention had a significant affect on the blood pressure. The blood pressure before the intervention was higher (156.45 ± 11.39 units) compared to the blood pressure post intervention (151.36 ± 14.18 units); there was a statistically significant decrease in blood pressure (t(119)=3.34, p= 0.0011)"
      ]
    },
    {
      "cell_type": "code",
      "metadata": {
        "colab": {
          "base_uri": "https://localhost:8080/",
          "height": 445
        },
        "id": "PrgW4HCyEfQW",
        "outputId": "b581ccd6-6ce0-484c-9e1e-889015eba3a0"
      },
      "source": [
        "'''Did we violate Assumption of normality ?\n",
        "'''\n",
        "import matplotlib.pyplot as plt\n",
        "fig,(ax1,ax2)=plt.subplots(nrows=1,ncols=2,figsize=(15,5))\n",
        "sns.distplot(df['bp_before'],ax=ax1)\n",
        "ax1.set_xlabel('bp_level',fontsize=15)\n",
        "ax1.set_ylabel('Occurrence',fontsize=15)\n",
        "ax1.set_title(\"bp before intervention\")\n",
        "sns.despine(ax=ax1)\n",
        "ax2.tick_params(labelsize=15)\n",
        "\n",
        "\n",
        "sns.distplot(df['bp_after'],ax=ax2)\n",
        "ax2.set_xlabel('bp level',fontsize=15)\n",
        "ax2.set_ylabel('Occurrence',fontsize=15)\n",
        "ax2.set_title(\"bp after intervention\")\n",
        "sns.despine(ax=ax2)\n",
        "ax2.tick_params(labelsize=15)"
      ],
      "execution_count": null,
      "outputs": [
        {
          "output_type": "stream",
          "name": "stderr",
          "text": [
            "/usr/local/lib/python3.7/dist-packages/seaborn/distributions.py:2557: FutureWarning: `distplot` is a deprecated function and will be removed in a future version. Please adapt your code to use either `displot` (a figure-level function with similar flexibility) or `histplot` (an axes-level function for histograms).\n",
            "  warnings.warn(msg, FutureWarning)\n",
            "/usr/local/lib/python3.7/dist-packages/seaborn/distributions.py:2557: FutureWarning: `distplot` is a deprecated function and will be removed in a future version. Please adapt your code to use either `displot` (a figure-level function with similar flexibility) or `histplot` (an axes-level function for histograms).\n",
            "  warnings.warn(msg, FutureWarning)\n"
          ]
        },
        {
          "output_type": "display_data",
          "data": {
            "image/png": "[encoded data removed]",
            "text/plain": [
              "<Figure size 1080x360 with 2 Axes>"
            ]
          },
          "metadata": {
            "needs_background": "light"
          }
        }
      ]
    },
    {
      "cell_type": "markdown",
      "metadata": {
        "id": "TbrtrtXoHoMx"
      },
      "source": [
        "#Test for Normality\n",
        "There are two ways one can test for Normality\n",
        "- make a histogram,Q-Q Plot and/or \n",
        "- use a statistical test(Shapiro-Wilk). Let’s do both.(we have plotted histo now lets use statistical test)"
      ]
    },
    {
      "cell_type": "markdown",
      "metadata": {
        "id": "TH0pfzcFIRqz"
      },
      "source": [
        "The histograms of our data does not seem to be normally distributed. There looks to be some skew. Let’s test this statistically to see if the data is normally distributed. To test this, one can use the **Shapiro-Wilk test for normality**. Unfortunately the output is not labeled. The first value is \n",
        "- The W test value, and the second value is \n",
        "- The p-value."
      ]
    },
    {
      "cell_type": "code",
      "metadata": {
        "colab": {
          "base_uri": "https://localhost:8080/"
        },
        "id": "bxlWTnTCGgDh",
        "outputId": "f5021ff3-46ca-4bfd-9316-38961e392525"
      },
      "source": [
        "from scipy.stats import shapiro\n",
        "shapiro(df['bp_before'])"
      ],
      "execution_count": null,
      "outputs": [
        {
          "output_type": "execute_result",
          "data": {
            "text/plain": [
              "ShapiroResult(statistic=0.9547787308692932, pvalue=0.0004928423441015184)"
            ]
          },
          "metadata": {},
          "execution_count": 35
        }
      ]
    },
    {
      "cell_type": "code",
      "metadata": {
        "colab": {
          "base_uri": "https://localhost:8080/"
        },
        "id": "ataTyTGqI6ra",
        "outputId": "ef971d32-ad31-4a88-d34d-77b3cf2e6852"
      },
      "source": [
        "shapiro(df['bp_after'])"
      ],
      "execution_count": null,
      "outputs": [
        {
          "output_type": "execute_result",
          "data": {
            "text/plain": [
              "ShapiroResult(statistic=0.9740639328956604, pvalue=0.020227791741490364)"
            ]
          },
          "metadata": {},
          "execution_count": 36
        }
      ]
    },
    {
      "cell_type": "markdown",
      "metadata": {
        "id": "S1gINjvrKZzJ"
      },
      "source": [
        "Both of the variables violate the assumption of normality by a large amount.Therefore our results may not be valid"
      ]
    },
    {
      "cell_type": "markdown",
      "metadata": {
        "id": "M0qr2QPJLsDL"
      },
      "source": [
        " # Wilcoxon Sign-Ranked Test\n"
      ]
    },
    {
      "cell_type": "markdown",
      "metadata": {
        "id": "c2s-l7uHL7af"
      },
      "source": [
        "This is the recommended test to use when the data violates the assumption of normality. It’s used to test if there is a significant difference on scores when there is a “before” and “after” condition of some treatment or intervention.\n",
        "\n",
        "\n",
        " "
      ]
    },
    {
      "cell_type": "code",
      "metadata": {
        "id": "pMwXB-hYu4g3"
      },
      "source": [
        "import matplotlib.pyplot as plt\n"
      ],
      "execution_count": null,
      "outputs": []
    },
    {
      "cell_type": "code",
      "metadata": {
        "colab": {
          "base_uri": "https://localhost:8080/",
          "height": 311
        },
        "id": "EEGBStUBJ-fv",
        "outputId": "10563f5a-16cb-4bba-e443-39e447558daf"
      },
      "source": [
        "from scipy.stats import probplot\n",
        "probplot(df['bp_before'], dist=\"norm\", plot=plt)\n",
        "plt.title(\"Blood Pressure Before Q-Q Plot\")\n"
      ],
      "execution_count": null,
      "outputs": [
        {
          "output_type": "execute_result",
          "data": {
            "text/plain": [
              "Text(0.5, 1.0, 'Blood Pressure Before Q-Q Plot')"
            ]
          },
          "metadata": {},
          "execution_count": 38
        },
        {
          "output_type": "display_data",
          "data": {
            "image/png": "[encoded data removed]",
            "text/plain": [
              "<Figure size 432x288 with 1 Axes>"
            ]
          },
          "metadata": {
            "needs_background": "light"
          }
        }
      ]
    },
    {
      "cell_type": "code",
      "metadata": {
        "colab": {
          "base_uri": "https://localhost:8080/",
          "height": 311
        },
        "id": "PecYphm9PSx-",
        "outputId": "27a124cb-c720-4617-e877-49f15bcb2f6b"
      },
      "source": [
        "from scipy.stats import probplot\n",
        "probplot(df['bp_after'], dist=\"norm\", plot=plt)\n",
        "plt.title(\"Blood Pressure Before Q-Q Plot\")\n"
      ],
      "execution_count": null,
      "outputs": [
        {
          "output_type": "execute_result",
          "data": {
            "text/plain": [
              "Text(0.5, 1.0, 'Blood Pressure Before Q-Q Plot')"
            ]
          },
          "metadata": {},
          "execution_count": 39
        },
        {
          "output_type": "display_data",
          "data": {
            "image/png": "[encoded data removed]",
            "text/plain": [
              "<Figure size 432x288 with 1 Axes>"
            ]
          },
          "metadata": {
            "needs_background": "light"
          }
        }
      ]
    },
    {
      "cell_type": "markdown",
      "metadata": {
        "id": "ORKZIZEwPrYI"
      },
      "source": [
        "For both of the variables there appears to be some violations from normality particularly at the start and end of the data.(we confirmed this using shapiro wilk)"
      ]
    },
    {
      "cell_type": "code",
      "metadata": {
        "colab": {
          "base_uri": "https://localhost:8080/"
        },
        "id": "1yDUHnMMPh9-",
        "outputId": "292a6a2a-6821-4784-fc23-3084e647a60b"
      },
      "source": [
        "'''\n",
        "we can now use wilcoxon to analyse our data\n",
        "'''\n",
        "from scipy.stats import wilcoxon\n",
        "wilcoxon(df['bp_before'], df['bp_after'])\n"
      ],
      "execution_count": null,
      "outputs": [
        {
          "output_type": "execute_result",
          "data": {
            "text/plain": [
              "WilcoxonResult(statistic=2234.5, pvalue=0.0014107333565442858)"
            ]
          },
          "metadata": {},
          "execution_count": 40
        }
      ]
    },
    {
      "cell_type": "code",
      "metadata": {
        "colab": {
          "base_uri": "https://localhost:8080/",
          "height": 35
        },
        "id": "M99a_HloQMDw",
        "outputId": "f3b05cec-2111-4da1-ff7d-7a1d26697187"
      },
      "source": [
        "'''\n",
        "The findings are statistically significant!\n",
        " We can reject the null hypothesis in support of the alternative.\n",
        "'''"
      ],
      "execution_count": null,
      "outputs": [
        {
          "output_type": "execute_result",
          "data": {
            "application/vnd.google.colaboratory.intrinsic+json": {
              "type": "string"
            },
            "text/plain": [
              "'\\nThe findings are statistically significant!\\n We can reject the null hypothesis in support of the alternative.\\n'"
            ]
          },
          "metadata": {},
          "execution_count": 39
        }
      ]
    },
    {
      "cell_type": "markdown",
      "metadata": {
        "id": "0JBO4GktQmz2"
      },
      "source": [
        "# CORRELATION\n"
      ]
    },
    {
      "cell_type": "markdown",
      "metadata": {
        "id": "l6jjzaUiRHhc"
      },
      "source": [
        "It is a statistical test of association between variables and is measured on a -1 to 1 scale. The closer the correlation value is to -1 or 1 the stronger the association, the closer to 0, the weaker the association. \n",
        "\n"
      ]
    },
    {
      "cell_type": "markdown",
      "metadata": {
        "id": "wln1Qk7uRelI"
      },
      "source": [
        "common types of tests to measure the level of correlation, \n",
        "- 1.Pearson\n",
        "- 2.Spearman\n",
        "- 3.and Kendall"
      ]
    },
    {
      "cell_type": "code",
      "metadata": {
        "id": "VvpJU7PHQlGi"
      },
      "source": [
        "housing_df=pd.read_csv(\"/content/sample_data/california_housing_test.csv\")"
      ],
      "execution_count": null,
      "outputs": []
    },
    {
      "cell_type": "code",
      "metadata": {
        "colab": {
          "base_uri": "https://localhost:8080/",
          "height": 320
        },
        "id": "Bmoxw5MxSWkl",
        "outputId": "9eca14b4-ea2f-42ff-d572-3aa089ddecc2"
      },
      "source": [
        "housing_df.corr().head().T"
      ],
      "execution_count": null,
      "outputs": [
        {
          "output_type": "execute_result",
          "data": {
            "text/html": [
              "<div>\n",
              "<style scoped>\n",
              "    .dataframe tbody tr th:only-of-type {\n",
              "        vertical-align: middle;\n",
              "    }\n",
              "\n",
              "    .dataframe tbody tr th {\n",
              "        vertical-align: top;\n",
              "    }\n",
              "\n",
              "    .dataframe thead th {\n",
              "        text-align: right;\n",
              "    }\n",
              "</style>\n",
              "<table border=\"1\" class=\"dataframe\">\n",
              "  <thead>\n",
              "    <tr style=\"text-align: right;\">\n",
              "      <th></th>\n",
              "      <th>longitude</th>\n",
              "      <th>latitude</th>\n",
              "      <th>housing_median_age</th>\n",
              "      <th>total_rooms</th>\n",
              "      <th>total_bedrooms</th>\n",
              "    </tr>\n",
              "  </thead>\n",
              "  <tbody>\n",
              "    <tr>\n",
              "      <th>longitude</th>\n",
              "      <td>1.000000</td>\n",
              "      <td>-0.925017</td>\n",
              "      <td>-0.064203</td>\n",
              "      <td>0.049865</td>\n",
              "      <td>0.070869</td>\n",
              "    </tr>\n",
              "    <tr>\n",
              "      <th>latitude</th>\n",
              "      <td>-0.925017</td>\n",
              "      <td>1.000000</td>\n",
              "      <td>-0.025143</td>\n",
              "      <td>-0.039632</td>\n",
              "      <td>-0.068245</td>\n",
              "    </tr>\n",
              "    <tr>\n",
              "      <th>housing_median_age</th>\n",
              "      <td>-0.064203</td>\n",
              "      <td>-0.025143</td>\n",
              "      <td>1.000000</td>\n",
              "      <td>-0.367850</td>\n",
              "      <td>-0.323154</td>\n",
              "    </tr>\n",
              "    <tr>\n",
              "      <th>total_rooms</th>\n",
              "      <td>0.049865</td>\n",
              "      <td>-0.039632</td>\n",
              "      <td>-0.367850</td>\n",
              "      <td>1.000000</td>\n",
              "      <td>0.937749</td>\n",
              "    </tr>\n",
              "    <tr>\n",
              "      <th>total_bedrooms</th>\n",
              "      <td>0.070869</td>\n",
              "      <td>-0.068245</td>\n",
              "      <td>-0.323154</td>\n",
              "      <td>0.937749</td>\n",
              "      <td>1.000000</td>\n",
              "    </tr>\n",
              "    <tr>\n",
              "      <th>population</th>\n",
              "      <td>0.111572</td>\n",
              "      <td>-0.117318</td>\n",
              "      <td>-0.299888</td>\n",
              "      <td>0.838867</td>\n",
              "      <td>0.856387</td>\n",
              "    </tr>\n",
              "    <tr>\n",
              "      <th>households</th>\n",
              "      <td>0.051062</td>\n",
              "      <td>-0.068296</td>\n",
              "      <td>-0.305171</td>\n",
              "      <td>0.914116</td>\n",
              "      <td>0.970758</td>\n",
              "    </tr>\n",
              "    <tr>\n",
              "      <th>median_income</th>\n",
              "      <td>-0.018701</td>\n",
              "      <td>-0.072363</td>\n",
              "      <td>-0.144315</td>\n",
              "      <td>0.221249</td>\n",
              "      <td>0.024025</td>\n",
              "    </tr>\n",
              "    <tr>\n",
              "      <th>median_house_value</th>\n",
              "      <td>-0.050662</td>\n",
              "      <td>-0.138428</td>\n",
              "      <td>0.091409</td>\n",
              "      <td>0.160427</td>\n",
              "      <td>0.082279</td>\n",
              "    </tr>\n",
              "  </tbody>\n",
              "</table>\n",
              "</div>"
            ],
            "text/plain": [
              "                    longitude  latitude  ...  total_rooms  total_bedrooms\n",
              "longitude            1.000000 -0.925017  ...     0.049865        0.070869\n",
              "latitude            -0.925017  1.000000  ...    -0.039632       -0.068245\n",
              "housing_median_age  -0.064203 -0.025143  ...    -0.367850       -0.323154\n",
              "total_rooms          0.049865 -0.039632  ...     1.000000        0.937749\n",
              "total_bedrooms       0.070869 -0.068245  ...     0.937749        1.000000\n",
              "population           0.111572 -0.117318  ...     0.838867        0.856387\n",
              "households           0.051062 -0.068296  ...     0.914116        0.970758\n",
              "median_income       -0.018701 -0.072363  ...     0.221249        0.024025\n",
              "median_house_value  -0.050662 -0.138428  ...     0.160427        0.082279\n",
              "\n",
              "[9 rows x 5 columns]"
            ]
          },
          "metadata": {},
          "execution_count": 44
        }
      ]
    },
    {
      "cell_type": "code",
      "metadata": {
        "colab": {
          "base_uri": "https://localhost:8080/"
        },
        "id": "H_5AqYZTwl3a",
        "outputId": "e6370875-0463-446f-a191-5c68e4f165dc"
      },
      "source": [
        "!pip install ppscore"
      ],
      "execution_count": null,
      "outputs": [
        {
          "output_type": "stream",
          "name": "stdout",
          "text": [
            "Collecting ppscore\n",
            "  Downloading ppscore-1.2.0.tar.gz (47 kB)\n",
            "\u001b[?25l\r\u001b[K     |███████                         | 10 kB 12.5 MB/s eta 0:00:01\r\u001b[K     |██████████████                  | 20 kB 17.5 MB/s eta 0:00:01\r\u001b[K     |█████████████████████           | 30 kB 19.9 MB/s eta 0:00:01\r\u001b[K     |███████████████████████████▉    | 40 kB 12.9 MB/s eta 0:00:01\r\u001b[K     |████████████████████████████████| 47 kB 3.3 MB/s \n",
            "\u001b[?25hRequirement already satisfied: pandas<2.0.0,>=1.0.0 in /usr/local/lib/python3.7/dist-packages (from ppscore) (1.1.5)\n",
            "Requirement already satisfied: scikit-learn<1.0.0,>=0.20.2 in /usr/local/lib/python3.7/dist-packages (from ppscore) (0.22.2.post1)\n",
            "Requirement already satisfied: pytz>=2017.2 in /usr/local/lib/python3.7/dist-packages (from pandas<2.0.0,>=1.0.0->ppscore) (2018.9)\n",
            "Requirement already satisfied: numpy>=1.15.4 in /usr/local/lib/python3.7/dist-packages (from pandas<2.0.0,>=1.0.0->ppscore) (1.19.5)\n",
            "Requirement already satisfied: python-dateutil>=2.7.3 in /usr/local/lib/python3.7/dist-packages (from pandas<2.0.0,>=1.0.0->ppscore) (2.8.2)\n",
            "Requirement already satisfied: six>=1.5 in /usr/local/lib/python3.7/dist-packages (from python-dateutil>=2.7.3->pandas<2.0.0,>=1.0.0->ppscore) (1.15.0)\n",
            "Requirement already satisfied: joblib>=0.11 in /usr/local/lib/python3.7/dist-packages (from scikit-learn<1.0.0,>=0.20.2->ppscore) (1.0.1)\n",
            "Requirement already satisfied: scipy>=0.17.0 in /usr/local/lib/python3.7/dist-packages (from scikit-learn<1.0.0,>=0.20.2->ppscore) (1.7.1)\n",
            "Building wheels for collected packages: ppscore\n",
            "  Building wheel for ppscore (setup.py) ... \u001b[?25l\u001b[?25hdone\n",
            "  Created wheel for ppscore: filename=ppscore-1.2.0-py2.py3-none-any.whl size=13068 sha256=0384e98a447e098760d9f210b55a3b8153857d713783b956db8933b2f842918e\n",
            "  Stored in directory: /root/.cache/pip/wheels/d2/3c/58/2ff786414b21713edc6f4fdb54fdee89ac37bca5edd1f60634\n",
            "Successfully built ppscore\n",
            "Installing collected packages: ppscore\n",
            "Successfully installed ppscore-1.2.0\n"
          ]
        }
      ]
    },
    {
      "cell_type": "code",
      "metadata": {
        "id": "I_rFy6agw_e6"
      },
      "source": [
        "pd.options.display.max_columns=None\n",
        "pd.options.display.max_rows=None"
      ],
      "execution_count": null,
      "outputs": []
    },
    {
      "cell_type": "code",
      "metadata": {
        "id": "B1bpc6ZySZiD"
      },
      "source": [
        "import ppscore as pps"
      ],
      "execution_count": null,
      "outputs": []
    },
    {
      "cell_type": "code",
      "metadata": {
        "colab": {
          "base_uri": "https://localhost:8080/",
          "height": 1000
        },
        "id": "ye5px-1xTpTh",
        "outputId": "f71b2f18-d555-4dcf-e943-bfc34df43f96"
      },
      "source": [
        "pps.matrix(housing_df)"
      ],
      "execution_count": null,
      "outputs": [
        {
          "output_type": "execute_result",
          "data": {
            "text/html": [
              "<div>\n",
              "<style scoped>\n",
              "    .dataframe tbody tr th:only-of-type {\n",
              "        vertical-align: middle;\n",
              "    }\n",
              "\n",
              "    .dataframe tbody tr th {\n",
              "        vertical-align: top;\n",
              "    }\n",
              "\n",
              "    .dataframe thead th {\n",
              "        text-align: right;\n",
              "    }\n",
              "</style>\n",
              "<table border=\"1\" class=\"dataframe\">\n",
              "  <thead>\n",
              "    <tr style=\"text-align: right;\">\n",
              "      <th></th>\n",
              "      <th>x</th>\n",
              "      <th>y</th>\n",
              "      <th>ppscore</th>\n",
              "      <th>case</th>\n",
              "      <th>is_valid_score</th>\n",
              "      <th>metric</th>\n",
              "      <th>baseline_score</th>\n",
              "      <th>model_score</th>\n",
              "      <th>model</th>\n",
              "    </tr>\n",
              "  </thead>\n",
              "  <tbody>\n",
              "    <tr>\n",
              "      <th>0</th>\n",
              "      <td>longitude</td>\n",
              "      <td>longitude</td>\n",
              "      <td>1.000000</td>\n",
              "      <td>predict_itself</td>\n",
              "      <td>True</td>\n",
              "      <td>None</td>\n",
              "      <td>0.000000</td>\n",
              "      <td>1.000000</td>\n",
              "      <td>None</td>\n",
              "    </tr>\n",
              "    <tr>\n",
              "      <th>1</th>\n",
              "      <td>longitude</td>\n",
              "      <td>latitude</td>\n",
              "      <td>0.770522</td>\n",
              "      <td>regression</td>\n",
              "      <td>True</td>\n",
              "      <td>mean absolute error</td>\n",
              "      <td>1.853283</td>\n",
              "      <td>0.425288</td>\n",
              "      <td>DecisionTreeRegressor(ccp_alpha=0.0, criterion...</td>\n",
              "    </tr>\n",
              "    <tr>\n",
              "      <th>2</th>\n",
              "      <td>longitude</td>\n",
              "      <td>housing_median_age</td>\n",
              "      <td>0.069364</td>\n",
              "      <td>regression</td>\n",
              "      <td>True</td>\n",
              "      <td>mean absolute error</td>\n",
              "      <td>10.518000</td>\n",
              "      <td>9.788424</td>\n",
              "      <td>DecisionTreeRegressor(ccp_alpha=0.0, criterion...</td>\n",
              "    </tr>\n",
              "    <tr>\n",
              "      <th>3</th>\n",
              "      <td>longitude</td>\n",
              "      <td>total_rooms</td>\n",
              "      <td>0.000000</td>\n",
              "      <td>regression</td>\n",
              "      <td>True</td>\n",
              "      <td>mean absolute error</td>\n",
              "      <td>1270.269333</td>\n",
              "      <td>1488.032478</td>\n",
              "      <td>DecisionTreeRegressor(ccp_alpha=0.0, criterion...</td>\n",
              "    </tr>\n",
              "    <tr>\n",
              "      <th>4</th>\n",
              "      <td>longitude</td>\n",
              "      <td>total_bedrooms</td>\n",
              "      <td>0.000000</td>\n",
              "      <td>regression</td>\n",
              "      <td>True</td>\n",
              "      <td>mean absolute error</td>\n",
              "      <td>252.107333</td>\n",
              "      <td>296.872408</td>\n",
              "      <td>DecisionTreeRegressor(ccp_alpha=0.0, criterion...</td>\n",
              "    </tr>\n",
              "    <tr>\n",
              "      <th>5</th>\n",
              "      <td>longitude</td>\n",
              "      <td>population</td>\n",
              "      <td>0.000000</td>\n",
              "      <td>regression</td>\n",
              "      <td>True</td>\n",
              "      <td>mean absolute error</td>\n",
              "      <td>662.914000</td>\n",
              "      <td>772.376280</td>\n",
              "      <td>DecisionTreeRegressor(ccp_alpha=0.0, criterion...</td>\n",
              "    </tr>\n",
              "    <tr>\n",
              "      <th>6</th>\n",
              "      <td>longitude</td>\n",
              "      <td>households</td>\n",
              "      <td>0.000000</td>\n",
              "      <td>regression</td>\n",
              "      <td>True</td>\n",
              "      <td>mean absolute error</td>\n",
              "      <td>228.860000</td>\n",
              "      <td>269.033153</td>\n",
              "      <td>DecisionTreeRegressor(ccp_alpha=0.0, criterion...</td>\n",
              "    </tr>\n",
              "    <tr>\n",
              "      <th>7</th>\n",
              "      <td>longitude</td>\n",
              "      <td>median_income</td>\n",
              "      <td>0.000000</td>\n",
              "      <td>regression</td>\n",
              "      <td>True</td>\n",
              "      <td>mean absolute error</td>\n",
              "      <td>1.338169</td>\n",
              "      <td>1.370494</td>\n",
              "      <td>DecisionTreeRegressor(ccp_alpha=0.0, criterion...</td>\n",
              "    </tr>\n",
              "    <tr>\n",
              "      <th>8</th>\n",
              "      <td>longitude</td>\n",
              "      <td>median_house_value</td>\n",
              "      <td>0.062415</td>\n",
              "      <td>regression</td>\n",
              "      <td>True</td>\n",
              "      <td>mean absolute error</td>\n",
              "      <td>86595.475000</td>\n",
              "      <td>81190.638647</td>\n",
              "      <td>DecisionTreeRegressor(ccp_alpha=0.0, criterion...</td>\n",
              "    </tr>\n",
              "    <tr>\n",
              "      <th>9</th>\n",
              "      <td>latitude</td>\n",
              "      <td>longitude</td>\n",
              "      <td>0.764556</td>\n",
              "      <td>regression</td>\n",
              "      <td>True</td>\n",
              "      <td>mean absolute error</td>\n",
              "      <td>1.750307</td>\n",
              "      <td>0.412100</td>\n",
              "      <td>DecisionTreeRegressor(ccp_alpha=0.0, criterion...</td>\n",
              "    </tr>\n",
              "    <tr>\n",
              "      <th>10</th>\n",
              "      <td>latitude</td>\n",
              "      <td>latitude</td>\n",
              "      <td>1.000000</td>\n",
              "      <td>predict_itself</td>\n",
              "      <td>True</td>\n",
              "      <td>None</td>\n",
              "      <td>0.000000</td>\n",
              "      <td>1.000000</td>\n",
              "      <td>None</td>\n",
              "    </tr>\n",
              "    <tr>\n",
              "      <th>11</th>\n",
              "      <td>latitude</td>\n",
              "      <td>housing_median_age</td>\n",
              "      <td>0.064069</td>\n",
              "      <td>regression</td>\n",
              "      <td>True</td>\n",
              "      <td>mean absolute error</td>\n",
              "      <td>10.518000</td>\n",
              "      <td>9.844119</td>\n",
              "      <td>DecisionTreeRegressor(ccp_alpha=0.0, criterion...</td>\n",
              "    </tr>\n",
              "    <tr>\n",
              "      <th>12</th>\n",
              "      <td>latitude</td>\n",
              "      <td>total_rooms</td>\n",
              "      <td>0.000000</td>\n",
              "      <td>regression</td>\n",
              "      <td>True</td>\n",
              "      <td>mean absolute error</td>\n",
              "      <td>1270.269333</td>\n",
              "      <td>1488.497216</td>\n",
              "      <td>DecisionTreeRegressor(ccp_alpha=0.0, criterion...</td>\n",
              "    </tr>\n",
              "    <tr>\n",
              "      <th>13</th>\n",
              "      <td>latitude</td>\n",
              "      <td>total_bedrooms</td>\n",
              "      <td>0.000000</td>\n",
              "      <td>regression</td>\n",
              "      <td>True</td>\n",
              "      <td>mean absolute error</td>\n",
              "      <td>252.107333</td>\n",
              "      <td>295.461794</td>\n",
              "      <td>DecisionTreeRegressor(ccp_alpha=0.0, criterion...</td>\n",
              "    </tr>\n",
              "    <tr>\n",
              "      <th>14</th>\n",
              "      <td>latitude</td>\n",
              "      <td>population</td>\n",
              "      <td>0.000000</td>\n",
              "      <td>regression</td>\n",
              "      <td>True</td>\n",
              "      <td>mean absolute error</td>\n",
              "      <td>662.914000</td>\n",
              "      <td>770.229364</td>\n",
              "      <td>DecisionTreeRegressor(ccp_alpha=0.0, criterion...</td>\n",
              "    </tr>\n",
              "    <tr>\n",
              "      <th>15</th>\n",
              "      <td>latitude</td>\n",
              "      <td>households</td>\n",
              "      <td>0.000000</td>\n",
              "      <td>regression</td>\n",
              "      <td>True</td>\n",
              "      <td>mean absolute error</td>\n",
              "      <td>228.860000</td>\n",
              "      <td>267.097495</td>\n",
              "      <td>DecisionTreeRegressor(ccp_alpha=0.0, criterion...</td>\n",
              "    </tr>\n",
              "    <tr>\n",
              "      <th>16</th>\n",
              "      <td>latitude</td>\n",
              "      <td>median_income</td>\n",
              "      <td>0.000000</td>\n",
              "      <td>regression</td>\n",
              "      <td>True</td>\n",
              "      <td>mean absolute error</td>\n",
              "      <td>1.338169</td>\n",
              "      <td>1.371761</td>\n",
              "      <td>DecisionTreeRegressor(ccp_alpha=0.0, criterion...</td>\n",
              "    </tr>\n",
              "    <tr>\n",
              "      <th>17</th>\n",
              "      <td>latitude</td>\n",
              "      <td>median_house_value</td>\n",
              "      <td>0.082681</td>\n",
              "      <td>regression</td>\n",
              "      <td>True</td>\n",
              "      <td>mean absolute error</td>\n",
              "      <td>86595.475000</td>\n",
              "      <td>79435.653963</td>\n",
              "      <td>DecisionTreeRegressor(ccp_alpha=0.0, criterion...</td>\n",
              "    </tr>\n",
              "    <tr>\n",
              "      <th>18</th>\n",
              "      <td>housing_median_age</td>\n",
              "      <td>longitude</td>\n",
              "      <td>0.000000</td>\n",
              "      <td>regression</td>\n",
              "      <td>True</td>\n",
              "      <td>mean absolute error</td>\n",
              "      <td>1.750307</td>\n",
              "      <td>1.805057</td>\n",
              "      <td>DecisionTreeRegressor(ccp_alpha=0.0, criterion...</td>\n",
              "    </tr>\n",
              "    <tr>\n",
              "      <th>19</th>\n",
              "      <td>housing_median_age</td>\n",
              "      <td>latitude</td>\n",
              "      <td>0.000000</td>\n",
              "      <td>regression</td>\n",
              "      <td>True</td>\n",
              "      <td>mean absolute error</td>\n",
              "      <td>1.853283</td>\n",
              "      <td>1.929961</td>\n",
              "      <td>DecisionTreeRegressor(ccp_alpha=0.0, criterion...</td>\n",
              "    </tr>\n",
              "    <tr>\n",
              "      <th>20</th>\n",
              "      <td>housing_median_age</td>\n",
              "      <td>housing_median_age</td>\n",
              "      <td>1.000000</td>\n",
              "      <td>predict_itself</td>\n",
              "      <td>True</td>\n",
              "      <td>None</td>\n",
              "      <td>0.000000</td>\n",
              "      <td>1.000000</td>\n",
              "      <td>None</td>\n",
              "    </tr>\n",
              "    <tr>\n",
              "      <th>21</th>\n",
              "      <td>housing_median_age</td>\n",
              "      <td>total_rooms</td>\n",
              "      <td>0.035017</td>\n",
              "      <td>regression</td>\n",
              "      <td>True</td>\n",
              "      <td>mean absolute error</td>\n",
              "      <td>1270.269333</td>\n",
              "      <td>1225.787696</td>\n",
              "      <td>DecisionTreeRegressor(ccp_alpha=0.0, criterion...</td>\n",
              "    </tr>\n",
              "    <tr>\n",
              "      <th>22</th>\n",
              "      <td>housing_median_age</td>\n",
              "      <td>total_bedrooms</td>\n",
              "      <td>0.019957</td>\n",
              "      <td>regression</td>\n",
              "      <td>True</td>\n",
              "      <td>mean absolute error</td>\n",
              "      <td>252.107333</td>\n",
              "      <td>247.076055</td>\n",
              "      <td>DecisionTreeRegressor(ccp_alpha=0.0, criterion...</td>\n",
              "    </tr>\n",
              "    <tr>\n",
              "      <th>23</th>\n",
              "      <td>housing_median_age</td>\n",
              "      <td>population</td>\n",
              "      <td>0.006649</td>\n",
              "      <td>regression</td>\n",
              "      <td>True</td>\n",
              "      <td>mean absolute error</td>\n",
              "      <td>662.914000</td>\n",
              "      <td>658.506339</td>\n",
              "      <td>DecisionTreeRegressor(ccp_alpha=0.0, criterion...</td>\n",
              "    </tr>\n",
              "    <tr>\n",
              "      <th>24</th>\n",
              "      <td>housing_median_age</td>\n",
              "      <td>households</td>\n",
              "      <td>0.017913</td>\n",
              "      <td>regression</td>\n",
              "      <td>True</td>\n",
              "      <td>mean absolute error</td>\n",
              "      <td>228.860000</td>\n",
              "      <td>224.760470</td>\n",
              "      <td>DecisionTreeRegressor(ccp_alpha=0.0, criterion...</td>\n",
              "    </tr>\n",
              "    <tr>\n",
              "      <th>25</th>\n",
              "      <td>housing_median_age</td>\n",
              "      <td>median_income</td>\n",
              "      <td>0.000000</td>\n",
              "      <td>regression</td>\n",
              "      <td>True</td>\n",
              "      <td>mean absolute error</td>\n",
              "      <td>1.338169</td>\n",
              "      <td>1.344244</td>\n",
              "      <td>DecisionTreeRegressor(ccp_alpha=0.0, criterion...</td>\n",
              "    </tr>\n",
              "    <tr>\n",
              "      <th>26</th>\n",
              "      <td>housing_median_age</td>\n",
              "      <td>median_house_value</td>\n",
              "      <td>0.000000</td>\n",
              "      <td>regression</td>\n",
              "      <td>True</td>\n",
              "      <td>mean absolute error</td>\n",
              "      <td>86595.475000</td>\n",
              "      <td>89129.845551</td>\n",
              "      <td>DecisionTreeRegressor(ccp_alpha=0.0, criterion...</td>\n",
              "    </tr>\n",
              "    <tr>\n",
              "      <th>27</th>\n",
              "      <td>total_rooms</td>\n",
              "      <td>longitude</td>\n",
              "      <td>0.000000</td>\n",
              "      <td>regression</td>\n",
              "      <td>True</td>\n",
              "      <td>mean absolute error</td>\n",
              "      <td>1.750307</td>\n",
              "      <td>2.196115</td>\n",
              "      <td>DecisionTreeRegressor(ccp_alpha=0.0, criterion...</td>\n",
              "    </tr>\n",
              "    <tr>\n",
              "      <th>28</th>\n",
              "      <td>total_rooms</td>\n",
              "      <td>latitude</td>\n",
              "      <td>0.000000</td>\n",
              "      <td>regression</td>\n",
              "      <td>True</td>\n",
              "      <td>mean absolute error</td>\n",
              "      <td>1.853283</td>\n",
              "      <td>2.315418</td>\n",
              "      <td>DecisionTreeRegressor(ccp_alpha=0.0, criterion...</td>\n",
              "    </tr>\n",
              "    <tr>\n",
              "      <th>29</th>\n",
              "      <td>total_rooms</td>\n",
              "      <td>housing_median_age</td>\n",
              "      <td>0.000000</td>\n",
              "      <td>regression</td>\n",
              "      <td>True</td>\n",
              "      <td>mean absolute error</td>\n",
              "      <td>10.518000</td>\n",
              "      <td>12.884889</td>\n",
              "      <td>DecisionTreeRegressor(ccp_alpha=0.0, criterion...</td>\n",
              "    </tr>\n",
              "    <tr>\n",
              "      <th>30</th>\n",
              "      <td>total_rooms</td>\n",
              "      <td>total_rooms</td>\n",
              "      <td>1.000000</td>\n",
              "      <td>predict_itself</td>\n",
              "      <td>True</td>\n",
              "      <td>None</td>\n",
              "      <td>0.000000</td>\n",
              "      <td>1.000000</td>\n",
              "      <td>None</td>\n",
              "    </tr>\n",
              "    <tr>\n",
              "      <th>31</th>\n",
              "      <td>total_rooms</td>\n",
              "      <td>total_bedrooms</td>\n",
              "      <td>0.482040</td>\n",
              "      <td>regression</td>\n",
              "      <td>True</td>\n",
              "      <td>mean absolute error</td>\n",
              "      <td>252.107333</td>\n",
              "      <td>130.581444</td>\n",
              "      <td>DecisionTreeRegressor(ccp_alpha=0.0, criterion...</td>\n",
              "    </tr>\n",
              "    <tr>\n",
              "      <th>32</th>\n",
              "      <td>total_rooms</td>\n",
              "      <td>population</td>\n",
              "      <td>0.269466</td>\n",
              "      <td>regression</td>\n",
              "      <td>True</td>\n",
              "      <td>mean absolute error</td>\n",
              "      <td>662.914000</td>\n",
              "      <td>484.281361</td>\n",
              "      <td>DecisionTreeRegressor(ccp_alpha=0.0, criterion...</td>\n",
              "    </tr>\n",
              "    <tr>\n",
              "      <th>33</th>\n",
              "      <td>total_rooms</td>\n",
              "      <td>households</td>\n",
              "      <td>0.443984</td>\n",
              "      <td>regression</td>\n",
              "      <td>True</td>\n",
              "      <td>mean absolute error</td>\n",
              "      <td>228.860000</td>\n",
              "      <td>127.249889</td>\n",
              "      <td>DecisionTreeRegressor(ccp_alpha=0.0, criterion...</td>\n",
              "    </tr>\n",
              "    <tr>\n",
              "      <th>34</th>\n",
              "      <td>total_rooms</td>\n",
              "      <td>median_income</td>\n",
              "      <td>0.000000</td>\n",
              "      <td>regression</td>\n",
              "      <td>True</td>\n",
              "      <td>mean absolute error</td>\n",
              "      <td>1.338169</td>\n",
              "      <td>1.787451</td>\n",
              "      <td>DecisionTreeRegressor(ccp_alpha=0.0, criterion...</td>\n",
              "    </tr>\n",
              "    <tr>\n",
              "      <th>35</th>\n",
              "      <td>total_rooms</td>\n",
              "      <td>median_house_value</td>\n",
              "      <td>0.000000</td>\n",
              "      <td>regression</td>\n",
              "      <td>True</td>\n",
              "      <td>mean absolute error</td>\n",
              "      <td>86595.475000</td>\n",
              "      <td>119154.905250</td>\n",
              "      <td>DecisionTreeRegressor(ccp_alpha=0.0, criterion...</td>\n",
              "    </tr>\n",
              "    <tr>\n",
              "      <th>36</th>\n",
              "      <td>total_bedrooms</td>\n",
              "      <td>longitude</td>\n",
              "      <td>0.000000</td>\n",
              "      <td>regression</td>\n",
              "      <td>True</td>\n",
              "      <td>mean absolute error</td>\n",
              "      <td>1.750307</td>\n",
              "      <td>2.036017</td>\n",
              "      <td>DecisionTreeRegressor(ccp_alpha=0.0, criterion...</td>\n",
              "    </tr>\n",
              "    <tr>\n",
              "      <th>37</th>\n",
              "      <td>total_bedrooms</td>\n",
              "      <td>latitude</td>\n",
              "      <td>0.000000</td>\n",
              "      <td>regression</td>\n",
              "      <td>True</td>\n",
              "      <td>mean absolute error</td>\n",
              "      <td>1.853283</td>\n",
              "      <td>2.160773</td>\n",
              "      <td>DecisionTreeRegressor(ccp_alpha=0.0, criterion...</td>\n",
              "    </tr>\n",
              "    <tr>\n",
              "      <th>38</th>\n",
              "      <td>total_bedrooms</td>\n",
              "      <td>housing_median_age</td>\n",
              "      <td>0.000000</td>\n",
              "      <td>regression</td>\n",
              "      <td>True</td>\n",
              "      <td>mean absolute error</td>\n",
              "      <td>10.518000</td>\n",
              "      <td>11.456379</td>\n",
              "      <td>DecisionTreeRegressor(ccp_alpha=0.0, criterion...</td>\n",
              "    </tr>\n",
              "    <tr>\n",
              "      <th>39</th>\n",
              "      <td>total_bedrooms</td>\n",
              "      <td>total_rooms</td>\n",
              "      <td>0.529899</td>\n",
              "      <td>regression</td>\n",
              "      <td>True</td>\n",
              "      <td>mean absolute error</td>\n",
              "      <td>1270.269333</td>\n",
              "      <td>597.154542</td>\n",
              "      <td>DecisionTreeRegressor(ccp_alpha=0.0, criterion...</td>\n",
              "    </tr>\n",
              "    <tr>\n",
              "      <th>40</th>\n",
              "      <td>total_bedrooms</td>\n",
              "      <td>total_bedrooms</td>\n",
              "      <td>1.000000</td>\n",
              "      <td>predict_itself</td>\n",
              "      <td>True</td>\n",
              "      <td>None</td>\n",
              "      <td>0.000000</td>\n",
              "      <td>1.000000</td>\n",
              "      <td>None</td>\n",
              "    </tr>\n",
              "    <tr>\n",
              "      <th>41</th>\n",
              "      <td>total_bedrooms</td>\n",
              "      <td>population</td>\n",
              "      <td>0.413911</td>\n",
              "      <td>regression</td>\n",
              "      <td>True</td>\n",
              "      <td>mean absolute error</td>\n",
              "      <td>662.914000</td>\n",
              "      <td>388.526660</td>\n",
              "      <td>DecisionTreeRegressor(ccp_alpha=0.0, criterion...</td>\n",
              "    </tr>\n",
              "    <tr>\n",
              "      <th>42</th>\n",
              "      <td>total_bedrooms</td>\n",
              "      <td>households</td>\n",
              "      <td>0.789978</td>\n",
              "      <td>regression</td>\n",
              "      <td>True</td>\n",
              "      <td>mean absolute error</td>\n",
              "      <td>228.860000</td>\n",
              "      <td>48.065712</td>\n",
              "      <td>DecisionTreeRegressor(ccp_alpha=0.0, criterion...</td>\n",
              "    </tr>\n",
              "    <tr>\n",
              "      <th>43</th>\n",
              "      <td>total_bedrooms</td>\n",
              "      <td>median_income</td>\n",
              "      <td>0.000000</td>\n",
              "      <td>regression</td>\n",
              "      <td>True</td>\n",
              "      <td>mean absolute error</td>\n",
              "      <td>1.338169</td>\n",
              "      <td>1.683565</td>\n",
              "      <td>DecisionTreeRegressor(ccp_alpha=0.0, criterion...</td>\n",
              "    </tr>\n",
              "    <tr>\n",
              "      <th>44</th>\n",
              "      <td>total_bedrooms</td>\n",
              "      <td>median_house_value</td>\n",
              "      <td>0.000000</td>\n",
              "      <td>regression</td>\n",
              "      <td>True</td>\n",
              "      <td>mean absolute error</td>\n",
              "      <td>86595.475000</td>\n",
              "      <td>107993.432122</td>\n",
              "      <td>DecisionTreeRegressor(ccp_alpha=0.0, criterion...</td>\n",
              "    </tr>\n",
              "    <tr>\n",
              "      <th>45</th>\n",
              "      <td>population</td>\n",
              "      <td>longitude</td>\n",
              "      <td>0.000000</td>\n",
              "      <td>regression</td>\n",
              "      <td>True</td>\n",
              "      <td>mean absolute error</td>\n",
              "      <td>1.750307</td>\n",
              "      <td>2.084748</td>\n",
              "      <td>DecisionTreeRegressor(ccp_alpha=0.0, criterion...</td>\n",
              "    </tr>\n",
              "    <tr>\n",
              "      <th>46</th>\n",
              "      <td>population</td>\n",
              "      <td>latitude</td>\n",
              "      <td>0.000000</td>\n",
              "      <td>regression</td>\n",
              "      <td>True</td>\n",
              "      <td>mean absolute error</td>\n",
              "      <td>1.853283</td>\n",
              "      <td>2.191645</td>\n",
              "      <td>DecisionTreeRegressor(ccp_alpha=0.0, criterion...</td>\n",
              "    </tr>\n",
              "    <tr>\n",
              "      <th>47</th>\n",
              "      <td>population</td>\n",
              "      <td>housing_median_age</td>\n",
              "      <td>0.000000</td>\n",
              "      <td>regression</td>\n",
              "      <td>True</td>\n",
              "      <td>mean absolute error</td>\n",
              "      <td>10.518000</td>\n",
              "      <td>12.855661</td>\n",
              "      <td>DecisionTreeRegressor(ccp_alpha=0.0, criterion...</td>\n",
              "    </tr>\n",
              "    <tr>\n",
              "      <th>48</th>\n",
              "      <td>population</td>\n",
              "      <td>total_rooms</td>\n",
              "      <td>0.259930</td>\n",
              "      <td>regression</td>\n",
              "      <td>True</td>\n",
              "      <td>mean absolute error</td>\n",
              "      <td>1270.269333</td>\n",
              "      <td>940.088844</td>\n",
              "      <td>DecisionTreeRegressor(ccp_alpha=0.0, criterion...</td>\n",
              "    </tr>\n",
              "    <tr>\n",
              "      <th>49</th>\n",
              "      <td>population</td>\n",
              "      <td>total_bedrooms</td>\n",
              "      <td>0.327805</td>\n",
              "      <td>regression</td>\n",
              "      <td>True</td>\n",
              "      <td>mean absolute error</td>\n",
              "      <td>252.107333</td>\n",
              "      <td>169.465250</td>\n",
              "      <td>DecisionTreeRegressor(ccp_alpha=0.0, criterion...</td>\n",
              "    </tr>\n",
              "    <tr>\n",
              "      <th>50</th>\n",
              "      <td>population</td>\n",
              "      <td>population</td>\n",
              "      <td>1.000000</td>\n",
              "      <td>predict_itself</td>\n",
              "      <td>True</td>\n",
              "      <td>None</td>\n",
              "      <td>0.000000</td>\n",
              "      <td>1.000000</td>\n",
              "      <td>None</td>\n",
              "    </tr>\n",
              "    <tr>\n",
              "      <th>51</th>\n",
              "      <td>population</td>\n",
              "      <td>households</td>\n",
              "      <td>0.426405</td>\n",
              "      <td>regression</td>\n",
              "      <td>True</td>\n",
              "      <td>mean absolute error</td>\n",
              "      <td>228.860000</td>\n",
              "      <td>131.272906</td>\n",
              "      <td>DecisionTreeRegressor(ccp_alpha=0.0, criterion...</td>\n",
              "    </tr>\n",
              "    <tr>\n",
              "      <th>52</th>\n",
              "      <td>population</td>\n",
              "      <td>median_income</td>\n",
              "      <td>0.000000</td>\n",
              "      <td>regression</td>\n",
              "      <td>True</td>\n",
              "      <td>mean absolute error</td>\n",
              "      <td>1.338169</td>\n",
              "      <td>1.812580</td>\n",
              "      <td>DecisionTreeRegressor(ccp_alpha=0.0, criterion...</td>\n",
              "    </tr>\n",
              "    <tr>\n",
              "      <th>53</th>\n",
              "      <td>population</td>\n",
              "      <td>median_house_value</td>\n",
              "      <td>0.000000</td>\n",
              "      <td>regression</td>\n",
              "      <td>True</td>\n",
              "      <td>mean absolute error</td>\n",
              "      <td>86595.475000</td>\n",
              "      <td>115944.327911</td>\n",
              "      <td>DecisionTreeRegressor(ccp_alpha=0.0, criterion...</td>\n",
              "    </tr>\n",
              "    <tr>\n",
              "      <th>54</th>\n",
              "      <td>households</td>\n",
              "      <td>longitude</td>\n",
              "      <td>0.000000</td>\n",
              "      <td>regression</td>\n",
              "      <td>True</td>\n",
              "      <td>mean absolute error</td>\n",
              "      <td>1.750307</td>\n",
              "      <td>2.056179</td>\n",
              "      <td>DecisionTreeRegressor(ccp_alpha=0.0, criterion...</td>\n",
              "    </tr>\n",
              "    <tr>\n",
              "      <th>55</th>\n",
              "      <td>households</td>\n",
              "      <td>latitude</td>\n",
              "      <td>0.000000</td>\n",
              "      <td>regression</td>\n",
              "      <td>True</td>\n",
              "      <td>mean absolute error</td>\n",
              "      <td>1.853283</td>\n",
              "      <td>2.201716</td>\n",
              "      <td>DecisionTreeRegressor(ccp_alpha=0.0, criterion...</td>\n",
              "    </tr>\n",
              "    <tr>\n",
              "      <th>56</th>\n",
              "      <td>households</td>\n",
              "      <td>housing_median_age</td>\n",
              "      <td>0.000000</td>\n",
              "      <td>regression</td>\n",
              "      <td>True</td>\n",
              "      <td>mean absolute error</td>\n",
              "      <td>10.518000</td>\n",
              "      <td>11.427329</td>\n",
              "      <td>DecisionTreeRegressor(ccp_alpha=0.0, criterion...</td>\n",
              "    </tr>\n",
              "    <tr>\n",
              "      <th>57</th>\n",
              "      <td>households</td>\n",
              "      <td>total_rooms</td>\n",
              "      <td>0.498999</td>\n",
              "      <td>regression</td>\n",
              "      <td>True</td>\n",
              "      <td>mean absolute error</td>\n",
              "      <td>1270.269333</td>\n",
              "      <td>636.406728</td>\n",
              "      <td>DecisionTreeRegressor(ccp_alpha=0.0, criterion...</td>\n",
              "    </tr>\n",
              "    <tr>\n",
              "      <th>58</th>\n",
              "      <td>households</td>\n",
              "      <td>total_bedrooms</td>\n",
              "      <td>0.785581</td>\n",
              "      <td>regression</td>\n",
              "      <td>True</td>\n",
              "      <td>mean absolute error</td>\n",
              "      <td>252.107333</td>\n",
              "      <td>54.056663</td>\n",
              "      <td>DecisionTreeRegressor(ccp_alpha=0.0, criterion...</td>\n",
              "    </tr>\n",
              "    <tr>\n",
              "      <th>59</th>\n",
              "      <td>households</td>\n",
              "      <td>population</td>\n",
              "      <td>0.472470</td>\n",
              "      <td>regression</td>\n",
              "      <td>True</td>\n",
              "      <td>mean absolute error</td>\n",
              "      <td>662.914000</td>\n",
              "      <td>349.707347</td>\n",
              "      <td>DecisionTreeRegressor(ccp_alpha=0.0, criterion...</td>\n",
              "    </tr>\n",
              "    <tr>\n",
              "      <th>60</th>\n",
              "      <td>households</td>\n",
              "      <td>households</td>\n",
              "      <td>1.000000</td>\n",
              "      <td>predict_itself</td>\n",
              "      <td>True</td>\n",
              "      <td>None</td>\n",
              "      <td>0.000000</td>\n",
              "      <td>1.000000</td>\n",
              "      <td>None</td>\n",
              "    </tr>\n",
              "    <tr>\n",
              "      <th>61</th>\n",
              "      <td>households</td>\n",
              "      <td>median_income</td>\n",
              "      <td>0.000000</td>\n",
              "      <td>regression</td>\n",
              "      <td>True</td>\n",
              "      <td>mean absolute error</td>\n",
              "      <td>1.338169</td>\n",
              "      <td>1.653249</td>\n",
              "      <td>DecisionTreeRegressor(ccp_alpha=0.0, criterion...</td>\n",
              "    </tr>\n",
              "    <tr>\n",
              "      <th>62</th>\n",
              "      <td>households</td>\n",
              "      <td>median_house_value</td>\n",
              "      <td>0.000000</td>\n",
              "      <td>regression</td>\n",
              "      <td>True</td>\n",
              "      <td>mean absolute error</td>\n",
              "      <td>86595.475000</td>\n",
              "      <td>109821.190038</td>\n",
              "      <td>DecisionTreeRegressor(ccp_alpha=0.0, criterion...</td>\n",
              "    </tr>\n",
              "    <tr>\n",
              "      <th>63</th>\n",
              "      <td>median_income</td>\n",
              "      <td>longitude</td>\n",
              "      <td>0.000000</td>\n",
              "      <td>regression</td>\n",
              "      <td>True</td>\n",
              "      <td>mean absolute error</td>\n",
              "      <td>1.750307</td>\n",
              "      <td>2.146191</td>\n",
              "      <td>DecisionTreeRegressor(ccp_alpha=0.0, criterion...</td>\n",
              "    </tr>\n",
              "    <tr>\n",
              "      <th>64</th>\n",
              "      <td>median_income</td>\n",
              "      <td>latitude</td>\n",
              "      <td>0.000000</td>\n",
              "      <td>regression</td>\n",
              "      <td>True</td>\n",
              "      <td>mean absolute error</td>\n",
              "      <td>1.853283</td>\n",
              "      <td>2.283231</td>\n",
              "      <td>DecisionTreeRegressor(ccp_alpha=0.0, criterion...</td>\n",
              "    </tr>\n",
              "    <tr>\n",
              "      <th>65</th>\n",
              "      <td>median_income</td>\n",
              "      <td>housing_median_age</td>\n",
              "      <td>0.000000</td>\n",
              "      <td>regression</td>\n",
              "      <td>True</td>\n",
              "      <td>mean absolute error</td>\n",
              "      <td>10.518000</td>\n",
              "      <td>13.765343</td>\n",
              "      <td>DecisionTreeRegressor(ccp_alpha=0.0, criterion...</td>\n",
              "    </tr>\n",
              "    <tr>\n",
              "      <th>66</th>\n",
              "      <td>median_income</td>\n",
              "      <td>total_rooms</td>\n",
              "      <td>0.000000</td>\n",
              "      <td>regression</td>\n",
              "      <td>True</td>\n",
              "      <td>mean absolute error</td>\n",
              "      <td>1270.269333</td>\n",
              "      <td>1798.433227</td>\n",
              "      <td>DecisionTreeRegressor(ccp_alpha=0.0, criterion...</td>\n",
              "    </tr>\n",
              "    <tr>\n",
              "      <th>67</th>\n",
              "      <td>median_income</td>\n",
              "      <td>total_bedrooms</td>\n",
              "      <td>0.000000</td>\n",
              "      <td>regression</td>\n",
              "      <td>True</td>\n",
              "      <td>mean absolute error</td>\n",
              "      <td>252.107333</td>\n",
              "      <td>368.186405</td>\n",
              "      <td>DecisionTreeRegressor(ccp_alpha=0.0, criterion...</td>\n",
              "    </tr>\n",
              "    <tr>\n",
              "      <th>68</th>\n",
              "      <td>median_income</td>\n",
              "      <td>population</td>\n",
              "      <td>0.000000</td>\n",
              "      <td>regression</td>\n",
              "      <td>True</td>\n",
              "      <td>mean absolute error</td>\n",
              "      <td>662.914000</td>\n",
              "      <td>965.680048</td>\n",
              "      <td>DecisionTreeRegressor(ccp_alpha=0.0, criterion...</td>\n",
              "    </tr>\n",
              "    <tr>\n",
              "      <th>69</th>\n",
              "      <td>median_income</td>\n",
              "      <td>households</td>\n",
              "      <td>0.000000</td>\n",
              "      <td>regression</td>\n",
              "      <td>True</td>\n",
              "      <td>mean absolute error</td>\n",
              "      <td>228.860000</td>\n",
              "      <td>331.342960</td>\n",
              "      <td>DecisionTreeRegressor(ccp_alpha=0.0, criterion...</td>\n",
              "    </tr>\n",
              "    <tr>\n",
              "      <th>70</th>\n",
              "      <td>median_income</td>\n",
              "      <td>median_income</td>\n",
              "      <td>1.000000</td>\n",
              "      <td>predict_itself</td>\n",
              "      <td>True</td>\n",
              "      <td>None</td>\n",
              "      <td>0.000000</td>\n",
              "      <td>1.000000</td>\n",
              "      <td>None</td>\n",
              "    </tr>\n",
              "    <tr>\n",
              "      <th>71</th>\n",
              "      <td>median_income</td>\n",
              "      <td>median_house_value</td>\n",
              "      <td>0.037187</td>\n",
              "      <td>regression</td>\n",
              "      <td>True</td>\n",
              "      <td>mean absolute error</td>\n",
              "      <td>86595.475000</td>\n",
              "      <td>83375.218554</td>\n",
              "      <td>DecisionTreeRegressor(ccp_alpha=0.0, criterion...</td>\n",
              "    </tr>\n",
              "    <tr>\n",
              "      <th>72</th>\n",
              "      <td>median_house_value</td>\n",
              "      <td>longitude</td>\n",
              "      <td>0.000000</td>\n",
              "      <td>regression</td>\n",
              "      <td>True</td>\n",
              "      <td>mean absolute error</td>\n",
              "      <td>1.750307</td>\n",
              "      <td>2.050367</td>\n",
              "      <td>DecisionTreeRegressor(ccp_alpha=0.0, criterion...</td>\n",
              "    </tr>\n",
              "    <tr>\n",
              "      <th>73</th>\n",
              "      <td>median_house_value</td>\n",
              "      <td>latitude</td>\n",
              "      <td>0.000000</td>\n",
              "      <td>regression</td>\n",
              "      <td>True</td>\n",
              "      <td>mean absolute error</td>\n",
              "      <td>1.853283</td>\n",
              "      <td>2.116134</td>\n",
              "      <td>DecisionTreeRegressor(ccp_alpha=0.0, criterion...</td>\n",
              "    </tr>\n",
              "    <tr>\n",
              "      <th>74</th>\n",
              "      <td>median_house_value</td>\n",
              "      <td>housing_median_age</td>\n",
              "      <td>0.000000</td>\n",
              "      <td>regression</td>\n",
              "      <td>True</td>\n",
              "      <td>mean absolute error</td>\n",
              "      <td>10.518000</td>\n",
              "      <td>13.375145</td>\n",
              "      <td>DecisionTreeRegressor(ccp_alpha=0.0, criterion...</td>\n",
              "    </tr>\n",
              "    <tr>\n",
              "      <th>75</th>\n",
              "      <td>median_house_value</td>\n",
              "      <td>total_rooms</td>\n",
              "      <td>0.000000</td>\n",
              "      <td>regression</td>\n",
              "      <td>True</td>\n",
              "      <td>mean absolute error</td>\n",
              "      <td>1270.269333</td>\n",
              "      <td>1710.036046</td>\n",
              "      <td>DecisionTreeRegressor(ccp_alpha=0.0, criterion...</td>\n",
              "    </tr>\n",
              "    <tr>\n",
              "      <th>76</th>\n",
              "      <td>median_house_value</td>\n",
              "      <td>total_bedrooms</td>\n",
              "      <td>0.000000</td>\n",
              "      <td>regression</td>\n",
              "      <td>True</td>\n",
              "      <td>mean absolute error</td>\n",
              "      <td>252.107333</td>\n",
              "      <td>345.769179</td>\n",
              "      <td>DecisionTreeRegressor(ccp_alpha=0.0, criterion...</td>\n",
              "    </tr>\n",
              "    <tr>\n",
              "      <th>77</th>\n",
              "      <td>median_house_value</td>\n",
              "      <td>population</td>\n",
              "      <td>0.000000</td>\n",
              "      <td>regression</td>\n",
              "      <td>True</td>\n",
              "      <td>mean absolute error</td>\n",
              "      <td>662.914000</td>\n",
              "      <td>896.097292</td>\n",
              "      <td>DecisionTreeRegressor(ccp_alpha=0.0, criterion...</td>\n",
              "    </tr>\n",
              "    <tr>\n",
              "      <th>78</th>\n",
              "      <td>median_house_value</td>\n",
              "      <td>households</td>\n",
              "      <td>0.000000</td>\n",
              "      <td>regression</td>\n",
              "      <td>True</td>\n",
              "      <td>mean absolute error</td>\n",
              "      <td>228.860000</td>\n",
              "      <td>309.398421</td>\n",
              "      <td>DecisionTreeRegressor(ccp_alpha=0.0, criterion...</td>\n",
              "    </tr>\n",
              "    <tr>\n",
              "      <th>79</th>\n",
              "      <td>median_house_value</td>\n",
              "      <td>median_income</td>\n",
              "      <td>0.064533</td>\n",
              "      <td>regression</td>\n",
              "      <td>True</td>\n",
              "      <td>mean absolute error</td>\n",
              "      <td>1.338169</td>\n",
              "      <td>1.251813</td>\n",
              "      <td>DecisionTreeRegressor(ccp_alpha=0.0, criterion...</td>\n",
              "    </tr>\n",
              "    <tr>\n",
              "      <th>80</th>\n",
              "      <td>median_house_value</td>\n",
              "      <td>median_house_value</td>\n",
              "      <td>1.000000</td>\n",
              "      <td>predict_itself</td>\n",
              "      <td>True</td>\n",
              "      <td>None</td>\n",
              "      <td>0.000000</td>\n",
              "      <td>1.000000</td>\n",
              "      <td>None</td>\n",
              "    </tr>\n",
              "  </tbody>\n",
              "</table>\n",
              "</div>"
            ],
            "text/plain": [
              "                     x                   y   ppscore            case  \\\n",
              "0            longitude           longitude  1.000000  predict_itself   \n",
              "1            longitude            latitude  0.770522      regression   \n",
              "2            longitude  housing_median_age  0.069364      regression   \n",
              "3            longitude         total_rooms  0.000000      regression   \n",
              "4            longitude      total_bedrooms  0.000000      regression   \n",
              "5            longitude          population  0.000000      regression   \n",
              "6            longitude          households  0.000000      regression   \n",
              "7            longitude       median_income  0.000000      regression   \n",
              "8            longitude  median_house_value  0.062415      regression   \n",
              "9             latitude           longitude  0.764556      regression   \n",
              "10            latitude            latitude  1.000000  predict_itself   \n",
              "11            latitude  housing_median_age  0.064069      regression   \n",
              "12            latitude         total_rooms  0.000000      regression   \n",
              "13            latitude      total_bedrooms  0.000000      regression   \n",
              "14            latitude          population  0.000000      regression   \n",
              "15            latitude          households  0.000000      regression   \n",
              "16            latitude       median_income  0.000000      regression   \n",
              "17            latitude  median_house_value  0.082681      regression   \n",
              "18  housing_median_age           longitude  0.000000      regression   \n",
              "19  housing_median_age            latitude  0.000000      regression   \n",
              "20  housing_median_age  housing_median_age  1.000000  predict_itself   \n",
              "21  housing_median_age         total_rooms  0.035017      regression   \n",
              "22  housing_median_age      total_bedrooms  0.019957      regression   \n",
              "23  housing_median_age          population  0.006649      regression   \n",
              "24  housing_median_age          households  0.017913      regression   \n",
              "25  housing_median_age       median_income  0.000000      regression   \n",
              "26  housing_median_age  median_house_value  0.000000      regression   \n",
              "27         total_rooms           longitude  0.000000      regression   \n",
              "28         total_rooms            latitude  0.000000      regression   \n",
              "29         total_rooms  housing_median_age  0.000000      regression   \n",
              "30         total_rooms         total_rooms  1.000000  predict_itself   \n",
              "31         total_rooms      total_bedrooms  0.482040      regression   \n",
              "32         total_rooms          population  0.269466      regression   \n",
              "33         total_rooms          households  0.443984      regression   \n",
              "34         total_rooms       median_income  0.000000      regression   \n",
              "35         total_rooms  median_house_value  0.000000      regression   \n",
              "36      total_bedrooms           longitude  0.000000      regression   \n",
              "37      total_bedrooms            latitude  0.000000      regression   \n",
              "38      total_bedrooms  housing_median_age  0.000000      regression   \n",
              "39      total_bedrooms         total_rooms  0.529899      regression   \n",
              "40      total_bedrooms      total_bedrooms  1.000000  predict_itself   \n",
              "41      total_bedrooms          population  0.413911      regression   \n",
              "42      total_bedrooms          households  0.789978      regression   \n",
              "43      total_bedrooms       median_income  0.000000      regression   \n",
              "44      total_bedrooms  median_house_value  0.000000      regression   \n",
              "45          population           longitude  0.000000      regression   \n",
              "46          population            latitude  0.000000      regression   \n",
              "47          population  housing_median_age  0.000000      regression   \n",
              "48          population         total_rooms  0.259930      regression   \n",
              "49          population      total_bedrooms  0.327805      regression   \n",
              "50          population          population  1.000000  predict_itself   \n",
              "51          population          households  0.426405      regression   \n",
              "52          population       median_income  0.000000      regression   \n",
              "53          population  median_house_value  0.000000      regression   \n",
              "54          households           longitude  0.000000      regression   \n",
              "55          households            latitude  0.000000      regression   \n",
              "56          households  housing_median_age  0.000000      regression   \n",
              "57          households         total_rooms  0.498999      regression   \n",
              "58          households      total_bedrooms  0.785581      regression   \n",
              "59          households          population  0.472470      regression   \n",
              "60          households          households  1.000000  predict_itself   \n",
              "61          households       median_income  0.000000      regression   \n",
              "62          households  median_house_value  0.000000      regression   \n",
              "63       median_income           longitude  0.000000      regression   \n",
              "64       median_income            latitude  0.000000      regression   \n",
              "65       median_income  housing_median_age  0.000000      regression   \n",
              "66       median_income         total_rooms  0.000000      regression   \n",
              "67       median_income      total_bedrooms  0.000000      regression   \n",
              "68       median_income          population  0.000000      regression   \n",
              "69       median_income          households  0.000000      regression   \n",
              "70       median_income       median_income  1.000000  predict_itself   \n",
              "71       median_income  median_house_value  0.037187      regression   \n",
              "72  median_house_value           longitude  0.000000      regression   \n",
              "73  median_house_value            latitude  0.000000      regression   \n",
              "74  median_house_value  housing_median_age  0.000000      regression   \n",
              "75  median_house_value         total_rooms  0.000000      regression   \n",
              "76  median_house_value      total_bedrooms  0.000000      regression   \n",
              "77  median_house_value          population  0.000000      regression   \n",
              "78  median_house_value          households  0.000000      regression   \n",
              "79  median_house_value       median_income  0.064533      regression   \n",
              "80  median_house_value  median_house_value  1.000000  predict_itself   \n",
              "\n",
              "    is_valid_score               metric  baseline_score    model_score  \\\n",
              "0             True                 None        0.000000       1.000000   \n",
              "1             True  mean absolute error        1.853283       0.425288   \n",
              "2             True  mean absolute error       10.518000       9.788424   \n",
              "3             True  mean absolute error     1270.269333    1488.032478   \n",
              "4             True  mean absolute error      252.107333     296.872408   \n",
              "5             True  mean absolute error      662.914000     772.376280   \n",
              "6             True  mean absolute error      228.860000     269.033153   \n",
              "7             True  mean absolute error        1.338169       1.370494   \n",
              "8             True  mean absolute error    86595.475000   81190.638647   \n",
              "9             True  mean absolute error        1.750307       0.412100   \n",
              "10            True                 None        0.000000       1.000000   \n",
              "11            True  mean absolute error       10.518000       9.844119   \n",
              "12            True  mean absolute error     1270.269333    1488.497216   \n",
              "13            True  mean absolute error      252.107333     295.461794   \n",
              "14            True  mean absolute error      662.914000     770.229364   \n",
              "15            True  mean absolute error      228.860000     267.097495   \n",
              "16            True  mean absolute error        1.338169       1.371761   \n",
              "17            True  mean absolute error    86595.475000   79435.653963   \n",
              "18            True  mean absolute error        1.750307       1.805057   \n",
              "19            True  mean absolute error        1.853283       1.929961   \n",
              "20            True                 None        0.000000       1.000000   \n",
              "21            True  mean absolute error     1270.269333    1225.787696   \n",
              "22            True  mean absolute error      252.107333     247.076055   \n",
              "23            True  mean absolute error      662.914000     658.506339   \n",
              "24            True  mean absolute error      228.860000     224.760470   \n",
              "25            True  mean absolute error        1.338169       1.344244   \n",
              "26            True  mean absolute error    86595.475000   89129.845551   \n",
              "27            True  mean absolute error        1.750307       2.196115   \n",
              "28            True  mean absolute error        1.853283       2.315418   \n",
              "29            True  mean absolute error       10.518000      12.884889   \n",
              "30            True                 None        0.000000       1.000000   \n",
              "31            True  mean absolute error      252.107333     130.581444   \n",
              "32            True  mean absolute error      662.914000     484.281361   \n",
              "33            True  mean absolute error      228.860000     127.249889   \n",
              "34            True  mean absolute error        1.338169       1.787451   \n",
              "35            True  mean absolute error    86595.475000  119154.905250   \n",
              "36            True  mean absolute error        1.750307       2.036017   \n",
              "37            True  mean absolute error        1.853283       2.160773   \n",
              "38            True  mean absolute error       10.518000      11.456379   \n",
              "39            True  mean absolute error     1270.269333     597.154542   \n",
              "40            True                 None        0.000000       1.000000   \n",
              "41            True  mean absolute error      662.914000     388.526660   \n",
              "42            True  mean absolute error      228.860000      48.065712   \n",
              "43            True  mean absolute error        1.338169       1.683565   \n",
              "44            True  mean absolute error    86595.475000  107993.432122   \n",
              "45            True  mean absolute error        1.750307       2.084748   \n",
              "46            True  mean absolute error        1.853283       2.191645   \n",
              "47            True  mean absolute error       10.518000      12.855661   \n",
              "48            True  mean absolute error     1270.269333     940.088844   \n",
              "49            True  mean absolute error      252.107333     169.465250   \n",
              "50            True                 None        0.000000       1.000000   \n",
              "51            True  mean absolute error      228.860000     131.272906   \n",
              "52            True  mean absolute error        1.338169       1.812580   \n",
              "53            True  mean absolute error    86595.475000  115944.327911   \n",
              "54            True  mean absolute error        1.750307       2.056179   \n",
              "55            True  mean absolute error        1.853283       2.201716   \n",
              "56            True  mean absolute error       10.518000      11.427329   \n",
              "57            True  mean absolute error     1270.269333     636.406728   \n",
              "58            True  mean absolute error      252.107333      54.056663   \n",
              "59            True  mean absolute error      662.914000     349.707347   \n",
              "60            True                 None        0.000000       1.000000   \n",
              "61            True  mean absolute error        1.338169       1.653249   \n",
              "62            True  mean absolute error    86595.475000  109821.190038   \n",
              "63            True  mean absolute error        1.750307       2.146191   \n",
              "64            True  mean absolute error        1.853283       2.283231   \n",
              "65            True  mean absolute error       10.518000      13.765343   \n",
              "66            True  mean absolute error     1270.269333    1798.433227   \n",
              "67            True  mean absolute error      252.107333     368.186405   \n",
              "68            True  mean absolute error      662.914000     965.680048   \n",
              "69            True  mean absolute error      228.860000     331.342960   \n",
              "70            True                 None        0.000000       1.000000   \n",
              "71            True  mean absolute error    86595.475000   83375.218554   \n",
              "72            True  mean absolute error        1.750307       2.050367   \n",
              "73            True  mean absolute error        1.853283       2.116134   \n",
              "74            True  mean absolute error       10.518000      13.375145   \n",
              "75            True  mean absolute error     1270.269333    1710.036046   \n",
              "76            True  mean absolute error      252.107333     345.769179   \n",
              "77            True  mean absolute error      662.914000     896.097292   \n",
              "78            True  mean absolute error      228.860000     309.398421   \n",
              "79            True  mean absolute error        1.338169       1.251813   \n",
              "80            True                 None        0.000000       1.000000   \n",
              "\n",
              "                                                model  \n",
              "0                                                None  \n",
              "1   DecisionTreeRegressor(ccp_alpha=0.0, criterion...  \n",
              "2   DecisionTreeRegressor(ccp_alpha=0.0, criterion...  \n",
              "3   DecisionTreeRegressor(ccp_alpha=0.0, criterion...  \n",
              "4   DecisionTreeRegressor(ccp_alpha=0.0, criterion...  \n",
              "5   DecisionTreeRegressor(ccp_alpha=0.0, criterion...  \n",
              "6   DecisionTreeRegressor(ccp_alpha=0.0, criterion...  \n",
              "7   DecisionTreeRegressor(ccp_alpha=0.0, criterion...  \n",
              "8   DecisionTreeRegressor(ccp_alpha=0.0, criterion...  \n",
              "9   DecisionTreeRegressor(ccp_alpha=0.0, criterion...  \n",
              "10                                               None  \n",
              "11  DecisionTreeRegressor(ccp_alpha=0.0, criterion...  \n",
              "12  DecisionTreeRegressor(ccp_alpha=0.0, criterion...  \n",
              "13  DecisionTreeRegressor(ccp_alpha=0.0, criterion...  \n",
              "14  DecisionTreeRegressor(ccp_alpha=0.0, criterion...  \n",
              "15  DecisionTreeRegressor(ccp_alpha=0.0, criterion...  \n",
              "16  DecisionTreeRegressor(ccp_alpha=0.0, criterion...  \n",
              "17  DecisionTreeRegressor(ccp_alpha=0.0, criterion...  \n",
              "18  DecisionTreeRegressor(ccp_alpha=0.0, criterion...  \n",
              "19  DecisionTreeRegressor(ccp_alpha=0.0, criterion...  \n",
              "20                                               None  \n",
              "21  DecisionTreeRegressor(ccp_alpha=0.0, criterion...  \n",
              "22  DecisionTreeRegressor(ccp_alpha=0.0, criterion...  \n",
              "23  DecisionTreeRegressor(ccp_alpha=0.0, criterion...  \n",
              "24  DecisionTreeRegressor(ccp_alpha=0.0, criterion...  \n",
              "25  DecisionTreeRegressor(ccp_alpha=0.0, criterion...  \n",
              "26  DecisionTreeRegressor(ccp_alpha=0.0, criterion...  \n",
              "27  DecisionTreeRegressor(ccp_alpha=0.0, criterion...  \n",
              "28  DecisionTreeRegressor(ccp_alpha=0.0, criterion...  \n",
              "29  DecisionTreeRegressor(ccp_alpha=0.0, criterion...  \n",
              "30                                               None  \n",
              "31  DecisionTreeRegressor(ccp_alpha=0.0, criterion...  \n",
              "32  DecisionTreeRegressor(ccp_alpha=0.0, criterion...  \n",
              "33  DecisionTreeRegressor(ccp_alpha=0.0, criterion...  \n",
              "34  DecisionTreeRegressor(ccp_alpha=0.0, criterion...  \n",
              "35  DecisionTreeRegressor(ccp_alpha=0.0, criterion...  \n",
              "36  DecisionTreeRegressor(ccp_alpha=0.0, criterion...  \n",
              "37  DecisionTreeRegressor(ccp_alpha=0.0, criterion...  \n",
              "38  DecisionTreeRegressor(ccp_alpha=0.0, criterion...  \n",
              "39  DecisionTreeRegressor(ccp_alpha=0.0, criterion...  \n",
              "40                                               None  \n",
              "41  DecisionTreeRegressor(ccp_alpha=0.0, criterion...  \n",
              "42  DecisionTreeRegressor(ccp_alpha=0.0, criterion...  \n",
              "43  DecisionTreeRegressor(ccp_alpha=0.0, criterion...  \n",
              "44  DecisionTreeRegressor(ccp_alpha=0.0, criterion...  \n",
              "45  DecisionTreeRegressor(ccp_alpha=0.0, criterion...  \n",
              "46  DecisionTreeRegressor(ccp_alpha=0.0, criterion...  \n",
              "47  DecisionTreeRegressor(ccp_alpha=0.0, criterion...  \n",
              "48  DecisionTreeRegressor(ccp_alpha=0.0, criterion...  \n",
              "49  DecisionTreeRegressor(ccp_alpha=0.0, criterion...  \n",
              "50                                               None  \n",
              "51  DecisionTreeRegressor(ccp_alpha=0.0, criterion...  \n",
              "52  DecisionTreeRegressor(ccp_alpha=0.0, criterion...  \n",
              "53  DecisionTreeRegressor(ccp_alpha=0.0, criterion...  \n",
              "54  DecisionTreeRegressor(ccp_alpha=0.0, criterion...  \n",
              "55  DecisionTreeRegressor(ccp_alpha=0.0, criterion...  \n",
              "56  DecisionTreeRegressor(ccp_alpha=0.0, criterion...  \n",
              "57  DecisionTreeRegressor(ccp_alpha=0.0, criterion...  \n",
              "58  DecisionTreeRegressor(ccp_alpha=0.0, criterion...  \n",
              "59  DecisionTreeRegressor(ccp_alpha=0.0, criterion...  \n",
              "60                                               None  \n",
              "61  DecisionTreeRegressor(ccp_alpha=0.0, criterion...  \n",
              "62  DecisionTreeRegressor(ccp_alpha=0.0, criterion...  \n",
              "63  DecisionTreeRegressor(ccp_alpha=0.0, criterion...  \n",
              "64  DecisionTreeRegressor(ccp_alpha=0.0, criterion...  \n",
              "65  DecisionTreeRegressor(ccp_alpha=0.0, criterion...  \n",
              "66  DecisionTreeRegressor(ccp_alpha=0.0, criterion...  \n",
              "67  DecisionTreeRegressor(ccp_alpha=0.0, criterion...  \n",
              "68  DecisionTreeRegressor(ccp_alpha=0.0, criterion...  \n",
              "69  DecisionTreeRegressor(ccp_alpha=0.0, criterion...  \n",
              "70                                               None  \n",
              "71  DecisionTreeRegressor(ccp_alpha=0.0, criterion...  \n",
              "72  DecisionTreeRegressor(ccp_alpha=0.0, criterion...  \n",
              "73  DecisionTreeRegressor(ccp_alpha=0.0, criterion...  \n",
              "74  DecisionTreeRegressor(ccp_alpha=0.0, criterion...  \n",
              "75  DecisionTreeRegressor(ccp_alpha=0.0, criterion...  \n",
              "76  DecisionTreeRegressor(ccp_alpha=0.0, criterion...  \n",
              "77  DecisionTreeRegressor(ccp_alpha=0.0, criterion...  \n",
              "78  DecisionTreeRegressor(ccp_alpha=0.0, criterion...  \n",
              "79  DecisionTreeRegressor(ccp_alpha=0.0, criterion...  \n",
              "80                                               None  "
            ]
          },
          "metadata": {},
          "execution_count": 49
        }
      ]
    }
  ]
}